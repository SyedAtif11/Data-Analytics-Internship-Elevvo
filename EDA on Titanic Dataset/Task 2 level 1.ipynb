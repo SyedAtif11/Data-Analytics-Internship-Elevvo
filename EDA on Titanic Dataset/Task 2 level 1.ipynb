{
 "cells": [
  {
   "cell_type": "markdown",
   "id": "2e6f5afb",
   "metadata": {},
   "source": [
    "\n",
    "# Titanic Dataset — Exploratory Data Analysis (EDA)\n",
    "\n",
    "Tasks:\n",
    "- Inspect data types and missing values\n",
    "- Clean/transform data (handle missing values, convert types, create features)\n",
    "- Compute summary statistics and group-based insights (e.g., survival by gender and class)\n",
    "- Visualize key patterns and correlations with **matplotlib** (no seaborn)\n",
    "- Bonus: visualize survival rates with bar plots and a correlation heatmap\n",
    "\n",
    "\n"
   ]
  },
  {
   "cell_type": "markdown",
   "id": "3eb700cc",
   "metadata": {},
   "source": [
    "\n",
    "## 1. Setup\n",
    "Import libraries and load the dataset.\n"
   ]
  },
  {
   "cell_type": "code",
   "execution_count": 1,
   "id": "524e2f9c",
   "metadata": {
    "execution": {
     "iopub.execute_input": "2025-08-22T20:15:59.584909Z",
     "iopub.status.busy": "2025-08-22T20:15:59.584514Z",
     "iopub.status.idle": "2025-08-22T20:16:13.171568Z",
     "shell.execute_reply": "2025-08-22T20:16:13.170071Z"
    }
   },
   "outputs": [],
   "source": [
    "\n",
    "import os\n",
    "import numpy as np\n",
    "import pandas as pd\n",
    "import matplotlib.pyplot as plt\n",
    "\n",
    "\n"
   ]
  },
  {
   "cell_type": "code",
   "execution_count": 2,
   "id": "665f0558",
   "metadata": {},
   "outputs": [
    {
     "data": {
      "text/html": [
       "<div>\n",
       "<style scoped>\n",
       "    .dataframe tbody tr th:only-of-type {\n",
       "        vertical-align: middle;\n",
       "    }\n",
       "\n",
       "    .dataframe tbody tr th {\n",
       "        vertical-align: top;\n",
       "    }\n",
       "\n",
       "    .dataframe thead th {\n",
       "        text-align: right;\n",
       "    }\n",
       "</style>\n",
       "<table border=\"1\" class=\"dataframe\">\n",
       "  <thead>\n",
       "    <tr style=\"text-align: right;\">\n",
       "      <th></th>\n",
       "      <th>PassengerId</th>\n",
       "      <th>Survived</th>\n",
       "      <th>Pclass</th>\n",
       "      <th>Name</th>\n",
       "      <th>Sex</th>\n",
       "      <th>Age</th>\n",
       "      <th>SibSp</th>\n",
       "      <th>Parch</th>\n",
       "      <th>Ticket</th>\n",
       "      <th>Fare</th>\n",
       "      <th>Cabin</th>\n",
       "      <th>Embarked</th>\n",
       "    </tr>\n",
       "  </thead>\n",
       "  <tbody>\n",
       "    <tr>\n",
       "      <th>0</th>\n",
       "      <td>1</td>\n",
       "      <td>0</td>\n",
       "      <td>3</td>\n",
       "      <td>Braund, Mr. Owen Harris</td>\n",
       "      <td>male</td>\n",
       "      <td>22.0</td>\n",
       "      <td>1</td>\n",
       "      <td>0</td>\n",
       "      <td>A/5 21171</td>\n",
       "      <td>7.2500</td>\n",
       "      <td>NaN</td>\n",
       "      <td>S</td>\n",
       "    </tr>\n",
       "    <tr>\n",
       "      <th>1</th>\n",
       "      <td>2</td>\n",
       "      <td>1</td>\n",
       "      <td>1</td>\n",
       "      <td>Cumings, Mrs. John Bradley (Florence Briggs Th...</td>\n",
       "      <td>female</td>\n",
       "      <td>38.0</td>\n",
       "      <td>1</td>\n",
       "      <td>0</td>\n",
       "      <td>PC 17599</td>\n",
       "      <td>71.2833</td>\n",
       "      <td>C85</td>\n",
       "      <td>C</td>\n",
       "    </tr>\n",
       "    <tr>\n",
       "      <th>2</th>\n",
       "      <td>3</td>\n",
       "      <td>1</td>\n",
       "      <td>3</td>\n",
       "      <td>Heikkinen, Miss. Laina</td>\n",
       "      <td>female</td>\n",
       "      <td>26.0</td>\n",
       "      <td>0</td>\n",
       "      <td>0</td>\n",
       "      <td>STON/O2. 3101282</td>\n",
       "      <td>7.9250</td>\n",
       "      <td>NaN</td>\n",
       "      <td>S</td>\n",
       "    </tr>\n",
       "    <tr>\n",
       "      <th>3</th>\n",
       "      <td>4</td>\n",
       "      <td>1</td>\n",
       "      <td>1</td>\n",
       "      <td>Futrelle, Mrs. Jacques Heath (Lily May Peel)</td>\n",
       "      <td>female</td>\n",
       "      <td>35.0</td>\n",
       "      <td>1</td>\n",
       "      <td>0</td>\n",
       "      <td>113803</td>\n",
       "      <td>53.1000</td>\n",
       "      <td>C123</td>\n",
       "      <td>S</td>\n",
       "    </tr>\n",
       "    <tr>\n",
       "      <th>4</th>\n",
       "      <td>5</td>\n",
       "      <td>0</td>\n",
       "      <td>3</td>\n",
       "      <td>Allen, Mr. William Henry</td>\n",
       "      <td>male</td>\n",
       "      <td>35.0</td>\n",
       "      <td>0</td>\n",
       "      <td>0</td>\n",
       "      <td>373450</td>\n",
       "      <td>8.0500</td>\n",
       "      <td>NaN</td>\n",
       "      <td>S</td>\n",
       "    </tr>\n",
       "  </tbody>\n",
       "</table>\n",
       "</div>"
      ],
      "text/plain": [
       "   PassengerId  Survived  Pclass  \\\n",
       "0            1         0       3   \n",
       "1            2         1       1   \n",
       "2            3         1       3   \n",
       "3            4         1       1   \n",
       "4            5         0       3   \n",
       "\n",
       "                                                Name     Sex   Age  SibSp  \\\n",
       "0                            Braund, Mr. Owen Harris    male  22.0      1   \n",
       "1  Cumings, Mrs. John Bradley (Florence Briggs Th...  female  38.0      1   \n",
       "2                             Heikkinen, Miss. Laina  female  26.0      0   \n",
       "3       Futrelle, Mrs. Jacques Heath (Lily May Peel)  female  35.0      1   \n",
       "4                           Allen, Mr. William Henry    male  35.0      0   \n",
       "\n",
       "   Parch            Ticket     Fare Cabin Embarked  \n",
       "0      0         A/5 21171   7.2500   NaN        S  \n",
       "1      0          PC 17599  71.2833   C85        C  \n",
       "2      0  STON/O2. 3101282   7.9250   NaN        S  \n",
       "3      0            113803  53.1000  C123        S  \n",
       "4      0            373450   8.0500   NaN        S  "
      ]
     },
     "execution_count": 2,
     "metadata": {},
     "output_type": "execute_result"
    }
   ],
   "source": [
    "df=pd.read_csv(\"train.csv\")\n",
    "df.head()"
   ]
  },
  {
   "cell_type": "markdown",
   "id": "25e6ca60",
   "metadata": {},
   "source": [
    "\n",
    "## 2. Data Types & Missing Data\n",
    "Check column types and missing values. This helps decide cleaning/imputation steps.\n"
   ]
  },
  {
   "cell_type": "code",
   "execution_count": 5,
   "id": "a14559a7",
   "metadata": {
    "execution": {
     "iopub.execute_input": "2025-08-22T20:16:13.177443Z",
     "iopub.status.busy": "2025-08-22T20:16:13.177026Z",
     "iopub.status.idle": "2025-08-22T20:16:13.220097Z",
     "shell.execute_reply": "2025-08-22T20:16:13.218265Z"
    }
   },
   "outputs": [
    {
     "name": "stdout",
     "output_type": "stream",
     "text": [
      "Data types:\n",
      "PassengerId      int64\n",
      "Survived         int64\n",
      "Pclass           int64\n",
      "Name            object\n",
      "Sex             object\n",
      "Age            float64\n",
      "SibSp            int64\n",
      "Parch            int64\n",
      "Ticket          object\n",
      "Fare           float64\n",
      "Cabin           object\n",
      "Embarked        object\n",
      "dtype: object\n"
     ]
    }
   ],
   "source": [
    "\n",
    "print(\"Data types:\")\n",
    "print(df.dtypes)\n",
    "\n"
   ]
  },
  {
   "cell_type": "code",
   "execution_count": 3,
   "id": "ca67d339",
   "metadata": {},
   "outputs": [
    {
     "name": "stdout",
     "output_type": "stream",
     "text": [
      "\n",
      "Missing values per column:\n",
      "PassengerId      0\n",
      "Survived         0\n",
      "Pclass           0\n",
      "Name             0\n",
      "Sex              0\n",
      "Age            177\n",
      "SibSp            0\n",
      "Parch            0\n",
      "Ticket           0\n",
      "Fare             0\n",
      "Cabin          687\n",
      "Embarked         2\n",
      "dtype: int64\n"
     ]
    }
   ],
   "source": [
    "print(\"\\nMissing values per column:\")\n",
    "print(df.isna().sum())\n"
   ]
  },
  {
   "cell_type": "code",
   "execution_count": 4,
   "id": "ce33bee0",
   "metadata": {},
   "outputs": [
    {
     "data": {
      "text/html": [
       "<div>\n",
       "<style scoped>\n",
       "    .dataframe tbody tr th:only-of-type {\n",
       "        vertical-align: middle;\n",
       "    }\n",
       "\n",
       "    .dataframe tbody tr th {\n",
       "        vertical-align: top;\n",
       "    }\n",
       "\n",
       "    .dataframe thead th {\n",
       "        text-align: right;\n",
       "    }\n",
       "</style>\n",
       "<table border=\"1\" class=\"dataframe\">\n",
       "  <thead>\n",
       "    <tr style=\"text-align: right;\">\n",
       "      <th></th>\n",
       "      <th>PassengerId</th>\n",
       "      <th>Survived</th>\n",
       "      <th>Pclass</th>\n",
       "      <th>Age</th>\n",
       "      <th>SibSp</th>\n",
       "      <th>Parch</th>\n",
       "      <th>Fare</th>\n",
       "    </tr>\n",
       "  </thead>\n",
       "  <tbody>\n",
       "    <tr>\n",
       "      <th>count</th>\n",
       "      <td>891.000000</td>\n",
       "      <td>891.000000</td>\n",
       "      <td>891.000000</td>\n",
       "      <td>714.000000</td>\n",
       "      <td>891.000000</td>\n",
       "      <td>891.000000</td>\n",
       "      <td>891.000000</td>\n",
       "    </tr>\n",
       "    <tr>\n",
       "      <th>mean</th>\n",
       "      <td>446.000000</td>\n",
       "      <td>0.383838</td>\n",
       "      <td>2.308642</td>\n",
       "      <td>29.699118</td>\n",
       "      <td>0.523008</td>\n",
       "      <td>0.381594</td>\n",
       "      <td>32.204208</td>\n",
       "    </tr>\n",
       "    <tr>\n",
       "      <th>std</th>\n",
       "      <td>257.353842</td>\n",
       "      <td>0.486592</td>\n",
       "      <td>0.836071</td>\n",
       "      <td>14.526497</td>\n",
       "      <td>1.102743</td>\n",
       "      <td>0.806057</td>\n",
       "      <td>49.693429</td>\n",
       "    </tr>\n",
       "    <tr>\n",
       "      <th>min</th>\n",
       "      <td>1.000000</td>\n",
       "      <td>0.000000</td>\n",
       "      <td>1.000000</td>\n",
       "      <td>0.420000</td>\n",
       "      <td>0.000000</td>\n",
       "      <td>0.000000</td>\n",
       "      <td>0.000000</td>\n",
       "    </tr>\n",
       "    <tr>\n",
       "      <th>25%</th>\n",
       "      <td>223.500000</td>\n",
       "      <td>0.000000</td>\n",
       "      <td>2.000000</td>\n",
       "      <td>20.125000</td>\n",
       "      <td>0.000000</td>\n",
       "      <td>0.000000</td>\n",
       "      <td>7.910400</td>\n",
       "    </tr>\n",
       "    <tr>\n",
       "      <th>50%</th>\n",
       "      <td>446.000000</td>\n",
       "      <td>0.000000</td>\n",
       "      <td>3.000000</td>\n",
       "      <td>28.000000</td>\n",
       "      <td>0.000000</td>\n",
       "      <td>0.000000</td>\n",
       "      <td>14.454200</td>\n",
       "    </tr>\n",
       "    <tr>\n",
       "      <th>75%</th>\n",
       "      <td>668.500000</td>\n",
       "      <td>1.000000</td>\n",
       "      <td>3.000000</td>\n",
       "      <td>38.000000</td>\n",
       "      <td>1.000000</td>\n",
       "      <td>0.000000</td>\n",
       "      <td>31.000000</td>\n",
       "    </tr>\n",
       "    <tr>\n",
       "      <th>max</th>\n",
       "      <td>891.000000</td>\n",
       "      <td>1.000000</td>\n",
       "      <td>3.000000</td>\n",
       "      <td>80.000000</td>\n",
       "      <td>8.000000</td>\n",
       "      <td>6.000000</td>\n",
       "      <td>512.329200</td>\n",
       "    </tr>\n",
       "  </tbody>\n",
       "</table>\n",
       "</div>"
      ],
      "text/plain": [
       "       PassengerId    Survived      Pclass         Age       SibSp  \\\n",
       "count   891.000000  891.000000  891.000000  714.000000  891.000000   \n",
       "mean    446.000000    0.383838    2.308642   29.699118    0.523008   \n",
       "std     257.353842    0.486592    0.836071   14.526497    1.102743   \n",
       "min       1.000000    0.000000    1.000000    0.420000    0.000000   \n",
       "25%     223.500000    0.000000    2.000000   20.125000    0.000000   \n",
       "50%     446.000000    0.000000    3.000000   28.000000    0.000000   \n",
       "75%     668.500000    1.000000    3.000000   38.000000    1.000000   \n",
       "max     891.000000    1.000000    3.000000   80.000000    8.000000   \n",
       "\n",
       "            Parch        Fare  \n",
       "count  891.000000  891.000000  \n",
       "mean     0.381594   32.204208  \n",
       "std      0.806057   49.693429  \n",
       "min      0.000000    0.000000  \n",
       "25%      0.000000    7.910400  \n",
       "50%      0.000000   14.454200  \n",
       "75%      0.000000   31.000000  \n",
       "max      6.000000  512.329200  "
      ]
     },
     "execution_count": 4,
     "metadata": {},
     "output_type": "execute_result"
    }
   ],
   "source": [
    "df.describe(include=[np.number])"
   ]
  },
  {
   "cell_type": "markdown",
   "id": "091674ad",
   "metadata": {},
   "source": [
    "\n",
    "## 3. Data Cleaning & Type Conversion\n",
    "- **Embarked**: fill missing with mode\n",
    "- **Age**: fill missing with median\n",
    "- **Fare**: fill missing with median (if any)\n",
    "- **Cabin** -> `Deck` (first letter), missing => \"Unknown\"\n",
    "- Convert `Pclass`, `Sex`, `Embarked`, `Deck` to `category`\n",
    "- Add `FamilySize` and `IsAlone`\n"
   ]
  },
  {
   "cell_type": "code",
   "execution_count": 7,
   "id": "a632a108",
   "metadata": {
    "execution": {
     "iopub.execute_input": "2025-08-22T20:16:13.271450Z",
     "iopub.status.busy": "2025-08-22T20:16:13.270960Z",
     "iopub.status.idle": "2025-08-22T20:16:13.311564Z",
     "shell.execute_reply": "2025-08-22T20:16:13.310364Z"
    }
   },
   "outputs": [
    {
     "name": "stdout",
     "output_type": "stream",
     "text": [
      "Missing values after cleaning:\n",
      "PassengerId      0\n",
      "Survived         0\n",
      "Pclass           0\n",
      "Name             0\n",
      "Sex              0\n",
      "Age              0\n",
      "SibSp            0\n",
      "Parch            0\n",
      "Ticket           0\n",
      "Fare             0\n",
      "Cabin          687\n",
      "Embarked         0\n",
      "Deck             0\n",
      "FamilySize       0\n",
      "IsAlone          0\n",
      "dtype: int64\n"
     ]
    },
    {
     "data": {
      "text/html": [
       "<div>\n",
       "<style scoped>\n",
       "    .dataframe tbody tr th:only-of-type {\n",
       "        vertical-align: middle;\n",
       "    }\n",
       "\n",
       "    .dataframe tbody tr th {\n",
       "        vertical-align: top;\n",
       "    }\n",
       "\n",
       "    .dataframe thead th {\n",
       "        text-align: right;\n",
       "    }\n",
       "</style>\n",
       "<table border=\"1\" class=\"dataframe\">\n",
       "  <thead>\n",
       "    <tr style=\"text-align: right;\">\n",
       "      <th></th>\n",
       "      <th>PassengerId</th>\n",
       "      <th>Survived</th>\n",
       "      <th>Pclass</th>\n",
       "      <th>Name</th>\n",
       "      <th>Sex</th>\n",
       "      <th>Age</th>\n",
       "      <th>SibSp</th>\n",
       "      <th>Parch</th>\n",
       "      <th>Ticket</th>\n",
       "      <th>Fare</th>\n",
       "      <th>Cabin</th>\n",
       "      <th>Embarked</th>\n",
       "      <th>Deck</th>\n",
       "      <th>FamilySize</th>\n",
       "      <th>IsAlone</th>\n",
       "    </tr>\n",
       "  </thead>\n",
       "  <tbody>\n",
       "    <tr>\n",
       "      <th>0</th>\n",
       "      <td>1</td>\n",
       "      <td>0</td>\n",
       "      <td>3</td>\n",
       "      <td>Braund, Mr. Owen Harris</td>\n",
       "      <td>male</td>\n",
       "      <td>22.0</td>\n",
       "      <td>1</td>\n",
       "      <td>0</td>\n",
       "      <td>A/5 21171</td>\n",
       "      <td>7.2500</td>\n",
       "      <td>NaN</td>\n",
       "      <td>S</td>\n",
       "      <td>Unknown</td>\n",
       "      <td>2</td>\n",
       "      <td>0</td>\n",
       "    </tr>\n",
       "    <tr>\n",
       "      <th>1</th>\n",
       "      <td>2</td>\n",
       "      <td>1</td>\n",
       "      <td>1</td>\n",
       "      <td>Cumings, Mrs. John Bradley (Florence Briggs Th...</td>\n",
       "      <td>female</td>\n",
       "      <td>38.0</td>\n",
       "      <td>1</td>\n",
       "      <td>0</td>\n",
       "      <td>PC 17599</td>\n",
       "      <td>71.2833</td>\n",
       "      <td>C85</td>\n",
       "      <td>C</td>\n",
       "      <td>C</td>\n",
       "      <td>2</td>\n",
       "      <td>0</td>\n",
       "    </tr>\n",
       "    <tr>\n",
       "      <th>2</th>\n",
       "      <td>3</td>\n",
       "      <td>1</td>\n",
       "      <td>3</td>\n",
       "      <td>Heikkinen, Miss. Laina</td>\n",
       "      <td>female</td>\n",
       "      <td>26.0</td>\n",
       "      <td>0</td>\n",
       "      <td>0</td>\n",
       "      <td>STON/O2. 3101282</td>\n",
       "      <td>7.9250</td>\n",
       "      <td>NaN</td>\n",
       "      <td>S</td>\n",
       "      <td>Unknown</td>\n",
       "      <td>1</td>\n",
       "      <td>1</td>\n",
       "    </tr>\n",
       "    <tr>\n",
       "      <th>3</th>\n",
       "      <td>4</td>\n",
       "      <td>1</td>\n",
       "      <td>1</td>\n",
       "      <td>Futrelle, Mrs. Jacques Heath (Lily May Peel)</td>\n",
       "      <td>female</td>\n",
       "      <td>35.0</td>\n",
       "      <td>1</td>\n",
       "      <td>0</td>\n",
       "      <td>113803</td>\n",
       "      <td>53.1000</td>\n",
       "      <td>C123</td>\n",
       "      <td>S</td>\n",
       "      <td>C</td>\n",
       "      <td>2</td>\n",
       "      <td>0</td>\n",
       "    </tr>\n",
       "    <tr>\n",
       "      <th>4</th>\n",
       "      <td>5</td>\n",
       "      <td>0</td>\n",
       "      <td>3</td>\n",
       "      <td>Allen, Mr. William Henry</td>\n",
       "      <td>male</td>\n",
       "      <td>35.0</td>\n",
       "      <td>0</td>\n",
       "      <td>0</td>\n",
       "      <td>373450</td>\n",
       "      <td>8.0500</td>\n",
       "      <td>NaN</td>\n",
       "      <td>S</td>\n",
       "      <td>Unknown</td>\n",
       "      <td>1</td>\n",
       "      <td>1</td>\n",
       "    </tr>\n",
       "  </tbody>\n",
       "</table>\n",
       "</div>"
      ],
      "text/plain": [
       "   PassengerId  Survived Pclass  \\\n",
       "0            1         0      3   \n",
       "1            2         1      1   \n",
       "2            3         1      3   \n",
       "3            4         1      1   \n",
       "4            5         0      3   \n",
       "\n",
       "                                                Name     Sex   Age  SibSp  \\\n",
       "0                            Braund, Mr. Owen Harris    male  22.0      1   \n",
       "1  Cumings, Mrs. John Bradley (Florence Briggs Th...  female  38.0      1   \n",
       "2                             Heikkinen, Miss. Laina  female  26.0      0   \n",
       "3       Futrelle, Mrs. Jacques Heath (Lily May Peel)  female  35.0      1   \n",
       "4                           Allen, Mr. William Henry    male  35.0      0   \n",
       "\n",
       "   Parch            Ticket     Fare Cabin Embarked     Deck  FamilySize  \\\n",
       "0      0         A/5 21171   7.2500   NaN        S  Unknown           2   \n",
       "1      0          PC 17599  71.2833   C85        C        C           2   \n",
       "2      0  STON/O2. 3101282   7.9250   NaN        S  Unknown           1   \n",
       "3      0            113803  53.1000  C123        S        C           2   \n",
       "4      0            373450   8.0500   NaN        S  Unknown           1   \n",
       "\n",
       "   IsAlone  \n",
       "0        0  \n",
       "1        0  \n",
       "2        1  \n",
       "3        0  \n",
       "4        1  "
      ]
     },
     "execution_count": 7,
     "metadata": {},
     "output_type": "execute_result"
    }
   ],
   "source": [
    "\n",
    "df_clean = df.copy()\n",
    "\n",
    "if df_clean[\"Embarked\"].isna().any():\n",
    "    df_clean[\"Embarked\"] = df_clean[\"Embarked\"].fillna(df_clean[\"Embarked\"].mode(dropna=True)[0])\n",
    "\n",
    "if df_clean[\"Age\"].isna().any():\n",
    "    df_clean[\"Age\"] = df_clean[\"Age\"].fillna(df_clean[\"Age\"].median())\n",
    "\n",
    "if df_clean[\"Fare\"].isna().any():\n",
    "    df_clean[\"Fare\"] = df_clean[\"Fare\"].fillna(df_clean[\"Fare\"].median())\n",
    "\n",
    "def extract_deck(cabin):\n",
    "    if isinstance(cabin, str) and len(cabin) > 0:\n",
    "        return cabin[0]\n",
    "    return \"Unknown\"\n",
    "\n",
    "df_clean[\"Deck\"] = df_clean[\"Cabin\"].apply(extract_deck)\n",
    "\n",
    "for c in [\"Pclass\", \"Sex\", \"Embarked\", \"Deck\"]:\n",
    "    df_clean[c] = df_clean[c].astype(\"category\")\n",
    "\n",
    "df_clean[\"FamilySize\"] = df_clean[\"SibSp\"] + df_clean[\"Parch\"] + 1\n",
    "df_clean[\"IsAlone\"] = (df_clean[\"FamilySize\"] == 1).astype(int)\n",
    "\n",
    "print(\"Missing values after cleaning:\")\n",
    "print(df_clean.isna().sum())\n",
    "\n",
    "df_clean.head()\n"
   ]
  },
  {
   "cell_type": "markdown",
   "id": "0977b214",
   "metadata": {},
   "source": [
    "\n",
    "## 4. Summary Statistics & Group-Based Insights\n"
   ]
  },
  {
   "cell_type": "code",
   "execution_count": 12,
   "id": "589df9b1",
   "metadata": {
    "execution": {
     "iopub.execute_input": "2025-08-22T20:16:13.317622Z",
     "iopub.status.busy": "2025-08-22T20:16:13.317173Z",
     "iopub.status.idle": "2025-08-22T20:16:13.476763Z",
     "shell.execute_reply": "2025-08-22T20:16:13.475711Z"
    }
   },
   "outputs": [
    {
     "name": "stdout",
     "output_type": "stream",
     "text": [
      "Overall survival rate: 0.384\n"
     ]
    }
   ],
   "source": [
    "\n",
    "overall_survival_rate = df_clean[\"Survived\"].mean()\n",
    "print(f\"Overall survival rate: {overall_survival_rate:.3f}\")\n"
   ]
  },
  {
   "cell_type": "code",
   "execution_count": 8,
   "id": "337b2ddf",
   "metadata": {},
   "outputs": [
    {
     "name": "stdout",
     "output_type": "stream",
     "text": [
      "\n",
      "Survival by Sex:\n",
      "Sex\n",
      "female    0.742038\n",
      "male      0.188908\n",
      "Name: Survived, dtype: float64\n"
     ]
    },
    {
     "name": "stderr",
     "output_type": "stream",
     "text": [
      "C:\\Users\\HP\\AppData\\Local\\Temp\\ipykernel_12696\\1978071788.py:1: FutureWarning: The default of observed=False is deprecated and will be changed to True in a future version of pandas. Pass observed=False to retain current behavior or observed=True to adopt the future default and silence this warning.\n",
      "  survival_by_sex = df_clean.groupby(\"Sex\")[\"Survived\"].mean().sort_values(ascending=False)\n"
     ]
    }
   ],
   "source": [
    "survival_by_sex = df_clean.groupby(\"Sex\")[\"Survived\"].mean().sort_values(ascending=False)\n",
    "print(\"\\nSurvival by Sex:\")\n",
    "print(survival_by_sex)\n"
   ]
  },
  {
   "cell_type": "code",
   "execution_count": 9,
   "id": "6c3819a8",
   "metadata": {},
   "outputs": [
    {
     "name": "stdout",
     "output_type": "stream",
     "text": [
      "\n",
      "Survival by Pclass:\n",
      "Pclass\n",
      "1    0.629630\n",
      "2    0.472826\n",
      "3    0.242363\n",
      "Name: Survived, dtype: float64\n"
     ]
    },
    {
     "name": "stderr",
     "output_type": "stream",
     "text": [
      "C:\\Users\\HP\\AppData\\Local\\Temp\\ipykernel_12696\\3087970562.py:1: FutureWarning: The default of observed=False is deprecated and will be changed to True in a future version of pandas. Pass observed=False to retain current behavior or observed=True to adopt the future default and silence this warning.\n",
      "  survival_by_pclass = df_clean.groupby(\"Pclass\")[\"Survived\"].mean().sort_index()\n"
     ]
    }
   ],
   "source": [
    "survival_by_pclass = df_clean.groupby(\"Pclass\")[\"Survived\"].mean().sort_index()\n",
    "print(\"\\nSurvival by Pclass:\")\n",
    "print(survival_by_pclass)"
   ]
  },
  {
   "cell_type": "code",
   "execution_count": 10,
   "id": "8559b870",
   "metadata": {},
   "outputs": [
    {
     "name": "stdout",
     "output_type": "stream",
     "text": [
      "\n",
      "Survival by Embarked:\n",
      "Embarked\n",
      "C    0.553571\n",
      "Q    0.389610\n",
      "S    0.339009\n",
      "Name: Survived, dtype: float64\n"
     ]
    },
    {
     "name": "stderr",
     "output_type": "stream",
     "text": [
      "C:\\Users\\HP\\AppData\\Local\\Temp\\ipykernel_12696\\244923807.py:1: FutureWarning: The default of observed=False is deprecated and will be changed to True in a future version of pandas. Pass observed=False to retain current behavior or observed=True to adopt the future default and silence this warning.\n",
      "  survival_by_embarked = df_clean.groupby(\"Embarked\")[\"Survived\"].mean().sort_values(ascending=False)\n"
     ]
    }
   ],
   "source": [
    "survival_by_embarked = df_clean.groupby(\"Embarked\")[\"Survived\"].mean().sort_values(ascending=False)\n",
    "print(\"\\nSurvival by Embarked:\")\n",
    "print(survival_by_embarked)"
   ]
  },
  {
   "cell_type": "code",
   "execution_count": 11,
   "id": "514120b4",
   "metadata": {},
   "outputs": [
    {
     "name": "stdout",
     "output_type": "stream",
     "text": [
      "\n",
      "Survival by Pclass and Sex:\n",
      "Sex       female      male\n",
      "Pclass                    \n",
      "1       0.968085  0.368852\n",
      "2       0.921053  0.157407\n",
      "3       0.500000  0.135447\n"
     ]
    },
    {
     "name": "stderr",
     "output_type": "stream",
     "text": [
      "C:\\Users\\HP\\AppData\\Local\\Temp\\ipykernel_12696\\4168717483.py:1: FutureWarning: The default value of observed=False is deprecated and will change to observed=True in a future version of pandas. Specify observed=False to silence this warning and retain the current behavior\n",
      "  survival_pclass_sex = df_clean.pivot_table(values=\"Survived\", index=\"Pclass\", columns=\"Sex\", aggfunc=\"mean\")\n"
     ]
    }
   ],
   "source": [
    "survival_pclass_sex = df_clean.pivot_table(values=\"Survived\", index=\"Pclass\", columns=\"Sex\", aggfunc=\"mean\")\n",
    "print(\"\\nSurvival by Pclass and Sex:\")\n",
    "print(survival_pclass_sex)"
   ]
  },
  {
   "cell_type": "code",
   "execution_count": 15,
   "id": "dc612c4a",
   "metadata": {},
   "outputs": [
    {
     "name": "stdout",
     "output_type": "stream",
     "text": [
      "\n",
      "Survival by IsAlone:\n",
      "IsAlone\n",
      "0    0.505650\n",
      "1    0.303538\n",
      "Name: Survived, dtype: float64\n",
      "\n",
      "Survival by FamilySizeBin:\n",
      "FamilySizeBin\n",
      "1       0.303538\n",
      "2       0.552795\n",
      "3-4     0.610687\n",
      "5-7     0.204082\n",
      "8-11    0.000000\n",
      "Name: Survived, dtype: float64\n"
     ]
    },
    {
     "name": "stderr",
     "output_type": "stream",
     "text": [
      "C:\\Users\\HP\\AppData\\Local\\Temp\\ipykernel_12696\\2511742670.py:3: FutureWarning: The default of observed=False is deprecated and will be changed to True in a future version of pandas. Pass observed=False to retain current behavior or observed=True to adopt the future default and silence this warning.\n",
      "  survival_by_famsize = df_clean.groupby(\"FamilySizeBin\")[\"Survived\"].mean()\n"
     ]
    }
   ],
   "source": [
    "df_clean[\"FamilySizeBin\"] = pd.cut(df_clean[\"FamilySize\"], bins=[0,1,2,4,7,11], labels=[\"1\",\"2\",\"3-4\",\"5-7\",\"8-11\"], include_lowest=True)\n",
    "survival_by_isalone = df_clean.groupby(\"IsAlone\")[\"Survived\"].mean()\n",
    "survival_by_famsize = df_clean.groupby(\"FamilySizeBin\")[\"Survived\"].mean()\n",
    "\n",
    "print(\"\\nSurvival by IsAlone:\")\n",
    "print(survival_by_isalone)\n",
    "print(\"\\nSurvival by FamilySizeBin:\")\n",
    "print(survival_by_famsize)"
   ]
  },
  {
   "cell_type": "code",
   "execution_count": 16,
   "id": "9fadc0f8",
   "metadata": {},
   "outputs": [
    {
     "data": {
      "text/html": [
       "<div>\n",
       "<style scoped>\n",
       "    .dataframe tbody tr th:only-of-type {\n",
       "        vertical-align: middle;\n",
       "    }\n",
       "\n",
       "    .dataframe tbody tr th {\n",
       "        vertical-align: top;\n",
       "    }\n",
       "\n",
       "    .dataframe thead th {\n",
       "        text-align: right;\n",
       "    }\n",
       "</style>\n",
       "<table border=\"1\" class=\"dataframe\">\n",
       "  <thead>\n",
       "    <tr style=\"text-align: right;\">\n",
       "      <th></th>\n",
       "      <th>SurvivalRate</th>\n",
       "    </tr>\n",
       "    <tr>\n",
       "      <th>Sex</th>\n",
       "      <th></th>\n",
       "    </tr>\n",
       "  </thead>\n",
       "  <tbody>\n",
       "    <tr>\n",
       "      <th>female</th>\n",
       "      <td>0.742038</td>\n",
       "    </tr>\n",
       "    <tr>\n",
       "      <th>male</th>\n",
       "      <td>0.188908</td>\n",
       "    </tr>\n",
       "  </tbody>\n",
       "</table>\n",
       "</div>"
      ],
      "text/plain": [
       "        SurvivalRate\n",
       "Sex                 \n",
       "female      0.742038\n",
       "male        0.188908"
      ]
     },
     "metadata": {},
     "output_type": "display_data"
    },
    {
     "data": {
      "text/html": [
       "<div>\n",
       "<style scoped>\n",
       "    .dataframe tbody tr th:only-of-type {\n",
       "        vertical-align: middle;\n",
       "    }\n",
       "\n",
       "    .dataframe tbody tr th {\n",
       "        vertical-align: top;\n",
       "    }\n",
       "\n",
       "    .dataframe thead th {\n",
       "        text-align: right;\n",
       "    }\n",
       "</style>\n",
       "<table border=\"1\" class=\"dataframe\">\n",
       "  <thead>\n",
       "    <tr style=\"text-align: right;\">\n",
       "      <th></th>\n",
       "      <th>SurvivalRate</th>\n",
       "    </tr>\n",
       "    <tr>\n",
       "      <th>Pclass</th>\n",
       "      <th></th>\n",
       "    </tr>\n",
       "  </thead>\n",
       "  <tbody>\n",
       "    <tr>\n",
       "      <th>1</th>\n",
       "      <td>0.629630</td>\n",
       "    </tr>\n",
       "    <tr>\n",
       "      <th>2</th>\n",
       "      <td>0.472826</td>\n",
       "    </tr>\n",
       "    <tr>\n",
       "      <th>3</th>\n",
       "      <td>0.242363</td>\n",
       "    </tr>\n",
       "  </tbody>\n",
       "</table>\n",
       "</div>"
      ],
      "text/plain": [
       "        SurvivalRate\n",
       "Pclass              \n",
       "1           0.629630\n",
       "2           0.472826\n",
       "3           0.242363"
      ]
     },
     "metadata": {},
     "output_type": "display_data"
    },
    {
     "data": {
      "text/html": [
       "<div>\n",
       "<style scoped>\n",
       "    .dataframe tbody tr th:only-of-type {\n",
       "        vertical-align: middle;\n",
       "    }\n",
       "\n",
       "    .dataframe tbody tr th {\n",
       "        vertical-align: top;\n",
       "    }\n",
       "\n",
       "    .dataframe thead th {\n",
       "        text-align: right;\n",
       "    }\n",
       "</style>\n",
       "<table border=\"1\" class=\"dataframe\">\n",
       "  <thead>\n",
       "    <tr style=\"text-align: right;\">\n",
       "      <th></th>\n",
       "      <th>SurvivalRate</th>\n",
       "    </tr>\n",
       "    <tr>\n",
       "      <th>Embarked</th>\n",
       "      <th></th>\n",
       "    </tr>\n",
       "  </thead>\n",
       "  <tbody>\n",
       "    <tr>\n",
       "      <th>C</th>\n",
       "      <td>0.553571</td>\n",
       "    </tr>\n",
       "    <tr>\n",
       "      <th>Q</th>\n",
       "      <td>0.389610</td>\n",
       "    </tr>\n",
       "    <tr>\n",
       "      <th>S</th>\n",
       "      <td>0.339009</td>\n",
       "    </tr>\n",
       "  </tbody>\n",
       "</table>\n",
       "</div>"
      ],
      "text/plain": [
       "          SurvivalRate\n",
       "Embarked              \n",
       "C             0.553571\n",
       "Q             0.389610\n",
       "S             0.339009"
      ]
     },
     "metadata": {},
     "output_type": "display_data"
    },
    {
     "data": {
      "text/html": [
       "<div>\n",
       "<style scoped>\n",
       "    .dataframe tbody tr th:only-of-type {\n",
       "        vertical-align: middle;\n",
       "    }\n",
       "\n",
       "    .dataframe tbody tr th {\n",
       "        vertical-align: top;\n",
       "    }\n",
       "\n",
       "    .dataframe thead th {\n",
       "        text-align: right;\n",
       "    }\n",
       "</style>\n",
       "<table border=\"1\" class=\"dataframe\">\n",
       "  <thead>\n",
       "    <tr style=\"text-align: right;\">\n",
       "      <th>Sex</th>\n",
       "      <th>female</th>\n",
       "      <th>male</th>\n",
       "    </tr>\n",
       "    <tr>\n",
       "      <th>Pclass</th>\n",
       "      <th></th>\n",
       "      <th></th>\n",
       "    </tr>\n",
       "  </thead>\n",
       "  <tbody>\n",
       "    <tr>\n",
       "      <th>1</th>\n",
       "      <td>0.968085</td>\n",
       "      <td>0.368852</td>\n",
       "    </tr>\n",
       "    <tr>\n",
       "      <th>2</th>\n",
       "      <td>0.921053</td>\n",
       "      <td>0.157407</td>\n",
       "    </tr>\n",
       "    <tr>\n",
       "      <th>3</th>\n",
       "      <td>0.500000</td>\n",
       "      <td>0.135447</td>\n",
       "    </tr>\n",
       "  </tbody>\n",
       "</table>\n",
       "</div>"
      ],
      "text/plain": [
       "Sex       female      male\n",
       "Pclass                    \n",
       "1       0.968085  0.368852\n",
       "2       0.921053  0.157407\n",
       "3       0.500000  0.135447"
      ]
     },
     "metadata": {},
     "output_type": "display_data"
    },
    {
     "data": {
      "text/html": [
       "<div>\n",
       "<style scoped>\n",
       "    .dataframe tbody tr th:only-of-type {\n",
       "        vertical-align: middle;\n",
       "    }\n",
       "\n",
       "    .dataframe tbody tr th {\n",
       "        vertical-align: top;\n",
       "    }\n",
       "\n",
       "    .dataframe thead th {\n",
       "        text-align: right;\n",
       "    }\n",
       "</style>\n",
       "<table border=\"1\" class=\"dataframe\">\n",
       "  <thead>\n",
       "    <tr style=\"text-align: right;\">\n",
       "      <th></th>\n",
       "      <th>SurvivalRate</th>\n",
       "    </tr>\n",
       "    <tr>\n",
       "      <th>IsAlone</th>\n",
       "      <th></th>\n",
       "    </tr>\n",
       "  </thead>\n",
       "  <tbody>\n",
       "    <tr>\n",
       "      <th>0</th>\n",
       "      <td>0.505650</td>\n",
       "    </tr>\n",
       "    <tr>\n",
       "      <th>1</th>\n",
       "      <td>0.303538</td>\n",
       "    </tr>\n",
       "  </tbody>\n",
       "</table>\n",
       "</div>"
      ],
      "text/plain": [
       "         SurvivalRate\n",
       "IsAlone              \n",
       "0            0.505650\n",
       "1            0.303538"
      ]
     },
     "metadata": {},
     "output_type": "display_data"
    },
    {
     "data": {
      "text/html": [
       "<div>\n",
       "<style scoped>\n",
       "    .dataframe tbody tr th:only-of-type {\n",
       "        vertical-align: middle;\n",
       "    }\n",
       "\n",
       "    .dataframe tbody tr th {\n",
       "        vertical-align: top;\n",
       "    }\n",
       "\n",
       "    .dataframe thead th {\n",
       "        text-align: right;\n",
       "    }\n",
       "</style>\n",
       "<table border=\"1\" class=\"dataframe\">\n",
       "  <thead>\n",
       "    <tr style=\"text-align: right;\">\n",
       "      <th></th>\n",
       "      <th>SurvivalRate</th>\n",
       "    </tr>\n",
       "    <tr>\n",
       "      <th>FamilySizeBin</th>\n",
       "      <th></th>\n",
       "    </tr>\n",
       "  </thead>\n",
       "  <tbody>\n",
       "    <tr>\n",
       "      <th>1</th>\n",
       "      <td>0.303538</td>\n",
       "    </tr>\n",
       "    <tr>\n",
       "      <th>2</th>\n",
       "      <td>0.552795</td>\n",
       "    </tr>\n",
       "    <tr>\n",
       "      <th>3-4</th>\n",
       "      <td>0.610687</td>\n",
       "    </tr>\n",
       "    <tr>\n",
       "      <th>5-7</th>\n",
       "      <td>0.204082</td>\n",
       "    </tr>\n",
       "    <tr>\n",
       "      <th>8-11</th>\n",
       "      <td>0.000000</td>\n",
       "    </tr>\n",
       "  </tbody>\n",
       "</table>\n",
       "</div>"
      ],
      "text/plain": [
       "               SurvivalRate\n",
       "FamilySizeBin              \n",
       "1                  0.303538\n",
       "2                  0.552795\n",
       "3-4                0.610687\n",
       "5-7                0.204082\n",
       "8-11               0.000000"
      ]
     },
     "metadata": {},
     "output_type": "display_data"
    }
   ],
   "source": [
    "#Displaying all above\n",
    "display(survival_by_sex.to_frame(\"SurvivalRate\"))\n",
    "display(survival_by_pclass.to_frame(\"SurvivalRate\"))\n",
    "display(survival_by_embarked.to_frame(\"SurvivalRate\"))\n",
    "display(survival_pclass_sex)\n",
    "display(survival_by_isalone.to_frame(\"SurvivalRate\"))\n",
    "display(survival_by_famsize.to_frame(\"SurvivalRate\"))"
   ]
  },
  {
   "cell_type": "markdown",
   "id": "0bee8f8e",
   "metadata": {},
   "source": [
    "\n",
    "## 5. Visualizations (Matplotlib)\n",
    "One chart per figure, no seaborn, no custom color settings.\n"
   ]
  },
  {
   "cell_type": "markdown",
   "id": "934891c4",
   "metadata": {},
   "source": [
    "\n",
    "### 5.1 Survival by Sex — Bar Plot\n"
   ]
  },
  {
   "cell_type": "code",
   "execution_count": 17,
   "id": "2fe70dce",
   "metadata": {
    "execution": {
     "iopub.execute_input": "2025-08-22T20:16:13.482164Z",
     "iopub.status.busy": "2025-08-22T20:16:13.481700Z",
     "iopub.status.idle": "2025-08-22T20:16:13.907714Z",
     "shell.execute_reply": "2025-08-22T20:16:13.906564Z"
    }
   },
   "outputs": [
    {
     "name": "stderr",
     "output_type": "stream",
     "text": [
      "C:\\Users\\HP\\AppData\\Local\\Temp\\ipykernel_12696\\217974301.py:1: FutureWarning: The default of observed=False is deprecated and will be changed to True in a future version of pandas. Pass observed=False to retain current behavior or observed=True to adopt the future default and silence this warning.\n",
      "  rates = df_clean.groupby(\"Sex\")[\"Survived\"].mean().sort_values(ascending=False)\n"
     ]
    },
    {
     "data": {
      "image/png": "[encoded data removed]",
      "text/plain": [
       "<Figure size 600x400 with 1 Axes>"
      ]
     },
     "metadata": {},
     "output_type": "display_data"
    }
   ],
   "source": [
    "\n",
    "rates = df_clean.groupby(\"Sex\")[\"Survived\"].mean().sort_values(ascending=False)\n",
    "plt.figure(figsize=(6,4))\n",
    "rates.plot(kind=\"bar\")\n",
    "plt.title(\"Survival Rate by Sex\")\n",
    "plt.ylabel(\"Survival Rate\")\n",
    "plt.xlabel(\"Sex\")\n",
    "plt.ylim(0,1)\n",
    "plt.grid(axis=\"y\")\n",
    "plt.show()\n"
   ]
  },
  {
   "cell_type": "markdown",
   "id": "6a0120b6",
   "metadata": {},
   "source": [
    "\n",
    "### 5.2 Survival by Pclass — Bar Plot\n"
   ]
  },
  {
   "cell_type": "code",
   "execution_count": 18,
   "id": "c6b5cc7a",
   "metadata": {
    "execution": {
     "iopub.execute_input": "2025-08-22T20:16:13.914067Z",
     "iopub.status.busy": "2025-08-22T20:16:13.913370Z",
     "iopub.status.idle": "2025-08-22T20:16:14.288781Z",
     "shell.execute_reply": "2025-08-22T20:16:14.287618Z"
    }
   },
   "outputs": [
    {
     "name": "stderr",
     "output_type": "stream",
     "text": [
      "C:\\Users\\HP\\AppData\\Local\\Temp\\ipykernel_12696\\1172600807.py:1: FutureWarning: The default of observed=False is deprecated and will be changed to True in a future version of pandas. Pass observed=False to retain current behavior or observed=True to adopt the future default and silence this warning.\n",
      "  rates = df_clean.groupby(\"Pclass\")[\"Survived\"].mean().sort_index()\n"
     ]
    },
    {
     "data": {
      "image/png": "[encoded data removed]",
      "text/plain": [
       "<Figure size 600x400 with 1 Axes>"
      ]
     },
     "metadata": {},
     "output_type": "display_data"
    }
   ],
   "source": [
    "\n",
    "rates = df_clean.groupby(\"Pclass\")[\"Survived\"].mean().sort_index()\n",
    "plt.figure(figsize=(6,4))\n",
    "rates.plot(kind=\"bar\")\n",
    "plt.title(\"Survival Rate by Passenger Class (Pclass)\")\n",
    "plt.ylabel(\"Survival Rate\")\n",
    "plt.xlabel(\"Pclass\")\n",
    "plt.ylim(0,1)\n",
    "plt.grid(axis=\"y\")\n",
    "plt.show()\n"
   ]
  },
  {
   "cell_type": "markdown",
   "id": "80b62877",
   "metadata": {},
   "source": [
    "\n",
    "### 5.3 Survival by Pclass and Sex — Grouped Bars\n"
   ]
  },
  {
   "cell_type": "code",
   "execution_count": 19,
   "id": "d92cb169",
   "metadata": {
    "execution": {
     "iopub.execute_input": "2025-08-22T20:16:14.294657Z",
     "iopub.status.busy": "2025-08-22T20:16:14.294071Z",
     "iopub.status.idle": "2025-08-22T20:16:14.831884Z",
     "shell.execute_reply": "2025-08-22T20:16:14.830333Z"
    }
   },
   "outputs": [
    {
     "name": "stderr",
     "output_type": "stream",
     "text": [
      "C:\\Users\\HP\\AppData\\Local\\Temp\\ipykernel_12696\\3533996194.py:1: FutureWarning: The default value of observed=False is deprecated and will change to observed=True in a future version of pandas. Specify observed=False to silence this warning and retain the current behavior\n",
      "  pivot_rates = df_clean.pivot_table(values=\"Survived\", index=\"Pclass\", columns=\"Sex\", aggfunc=\"mean\").sort_index()\n"
     ]
    },
    {
     "data": {
      "image/png": "[encoded data removed]",
      "text/plain": [
       "<Figure size 700x500 with 1 Axes>"
      ]
     },
     "metadata": {},
     "output_type": "display_data"
    }
   ],
   "source": [
    "\n",
    "pivot_rates = df_clean.pivot_table(values=\"Survived\", index=\"Pclass\", columns=\"Sex\", aggfunc=\"mean\").sort_index()\n",
    "plt.figure(figsize=(7,5))\n",
    "import numpy as np\n",
    "x = np.arange(len(pivot_rates.index))\n",
    "width = 0.35\n",
    "plt.bar(x - width/2, pivot_rates[\"female\"].values, width, label=\"female\")\n",
    "plt.bar(x + width/2, pivot_rates[\"male\"].values, width, label=\"male\")\n",
    "plt.xticks(x, pivot_rates.index.astype(str))\n",
    "plt.title(\"Survival Rate by Pclass and Sex\")\n",
    "plt.ylabel(\"Survival Rate\")\n",
    "plt.xlabel(\"Pclass\")\n",
    "plt.ylim(0,1)\n",
    "plt.legend()\n",
    "plt.grid(axis=\"y\")\n",
    "plt.show()\n"
   ]
  },
  {
   "cell_type": "markdown",
   "id": "ea1a1b85",
   "metadata": {},
   "source": [
    "\n",
    "### 5.4 Survival by Embarked — Bar Plot\n"
   ]
  },
  {
   "cell_type": "code",
   "execution_count": 20,
   "id": "d0545a81",
   "metadata": {
    "execution": {
     "iopub.execute_input": "2025-08-22T20:16:14.836868Z",
     "iopub.status.busy": "2025-08-22T20:16:14.836459Z",
     "iopub.status.idle": "2025-08-22T20:16:15.247075Z",
     "shell.execute_reply": "2025-08-22T20:16:15.245848Z"
    }
   },
   "outputs": [
    {
     "name": "stderr",
     "output_type": "stream",
     "text": [
      "C:\\Users\\HP\\AppData\\Local\\Temp\\ipykernel_12696\\2683702824.py:1: FutureWarning: The default of observed=False is deprecated and will be changed to True in a future version of pandas. Pass observed=False to retain current behavior or observed=True to adopt the future default and silence this warning.\n",
      "  rates = df_clean.groupby(\"Embarked\")[\"Survived\"].mean().sort_values(ascending=False)\n"
     ]
    },
    {
     "data": {
      "image/png": "[encoded data removed]",
      "text/plain": [
       "<Figure size 600x400 with 1 Axes>"
      ]
     },
     "metadata": {},
     "output_type": "display_data"
    }
   ],
   "source": [
    "\n",
    "rates = df_clean.groupby(\"Embarked\")[\"Survived\"].mean().sort_values(ascending=False)\n",
    "plt.figure(figsize=(6,4))\n",
    "rates.plot(kind=\"bar\")\n",
    "plt.title(\"Survival Rate by Embarked Port\")\n",
    "plt.ylabel(\"Survival Rate\")\n",
    "plt.xlabel(\"Embarked\")\n",
    "plt.ylim(0,1)\n",
    "plt.grid(axis=\"y\")\n",
    "plt.show()\n"
   ]
  },
  {
   "cell_type": "markdown",
   "id": "277eec6f",
   "metadata": {},
   "source": [
    "\n",
    "### 5.5 Correlation Heatmap (Numeric Features)\n"
   ]
  },
  {
   "cell_type": "code",
   "execution_count": 21,
   "id": "13bed59c",
   "metadata": {
    "execution": {
     "iopub.execute_input": "2025-08-22T20:16:15.276795Z",
     "iopub.status.busy": "2025-08-22T20:16:15.276195Z",
     "iopub.status.idle": "2025-08-22T20:16:16.519263Z",
     "shell.execute_reply": "2025-08-22T20:16:16.517712Z"
    }
   },
   "outputs": [
    {
     "data": {
      "image/png": "[encoded data removed]",
      "text/plain": [
       "<Figure size 800x600 with 2 Axes>"
      ]
     },
     "metadata": {},
     "output_type": "display_data"
    }
   ],
   "source": [
    "\n",
    "import numpy as np\n",
    "numeric_df = df_clean.select_dtypes(include=[np.number])\n",
    "corr = numeric_df.corr()\n",
    "\n",
    "plt.figure(figsize=(8,6))\n",
    "plt.imshow(corr, interpolation=\"nearest\", aspect=\"auto\")\n",
    "plt.colorbar()\n",
    "plt.xticks(range(len(corr.columns)), corr.columns, rotation=45, ha=\"right\")\n",
    "plt.yticks(range(len(corr.index)), corr.index)\n",
    "plt.title(\"Correlation Heatmap (Numeric Features)\")\n",
    "\n",
    "for i in range(len(corr.index)):\n",
    "    for j in range(len(corr.columns)):\n",
    "        val = corr.iloc[i, j]\n",
    "        plt.text(j, i, f\"{val:.2f}\", ha=\"center\", va=\"center\", fontsize=8)\n",
    "\n",
    "plt.tight_layout()\n",
    "plt.show()\n"
   ]
  },
  {
   "cell_type": "markdown",
   "id": "e0975df3",
   "metadata": {},
   "source": [
    "\n",
    "## 6. Key Takeaways\n",
    "- Females show a higher survival rate than males\n",
    "- First class passengers had higher survival\n",
    "- Being alone is associated with lower survival\n",
    "- Numeric features show expected relationships (e.g., Fare relates to Pclass)\n",
    "\n",
    "\n",
    "\n",
    "\n"
   ]
  }
 ],
 "metadata": {
  "kernelspec": {
   "display_name": "Python 3",
   "language": "python",
   "name": "python3"
  },
  "language_info": {
   "codemirror_mode": {
    "name": "ipython",
    "version": 3
   },
   "file_extension": ".py",
   "mimetype": "text/x-python",
   "name": "python",
   "nbconvert_exporter": "python",
   "pygments_lexer": "ipython3",
   "version": "3.12.2"
  }
 },
 "nbformat": 4,
 "nbformat_minor": 5
}
