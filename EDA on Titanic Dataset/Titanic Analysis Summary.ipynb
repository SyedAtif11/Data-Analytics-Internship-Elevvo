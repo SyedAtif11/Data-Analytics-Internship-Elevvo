{
  "cells": [
    {
      "cell_type": "markdown",
      "metadata": {},
      "source": "# Summary of Analysis on Titanic Dataset\n\n### # Titanic Dataset \u2014 Exploratory Data Analysis (EDA)\n\nTasks:\n- Inspect data types and missing values\n- Clean/transform data (handle missing values, convert types, create features)\n- Compute summary statistics and group-based insights (e.g., survival by gender and class)\n- Visualize key patterns and correlations with **matplotlib** (no seaborn)\n- Bonus: visualize survival rates with bar plots and a correlation heatmap\n\n### ## 1. Setup\nImport libraries and load the dataset.\n\n- **Code executed:** `import os...`\n\n- **Code executed:** `df=pd.read_csv(\"train.csv\")...`\n\n### ## 2. Data Types & Missing Data\nCheck column types and missing values. This helps decide cleaning/imputation steps.\n\n- **Code executed:** `print(\"Data types:\")...`\n\n- **Code executed:** `print(\"\\nMissing values per column:\")...`\n\n- **Code executed:** `df.describe(include=[np.number])...`\n\n### ## 3. Data Cleaning & Type Conversion\n- **Embarked**: fill missing with mode\n- **Age**: fill missing with median\n- **Fare**: fill missing with median (if any)\n- **Cabin** -> `Deck` (first letter), missing => \"Unknown\"\n- Convert `Pclass`, `Sex`, `Embarked`, `Deck` to `category`\n- Add `FamilySize` and `IsAlone`\n\n- **Code executed:** `df_clean = df.copy()...`\n\n### ## 4. Summary Statistics & Group-Based Insights\n\n- **Code executed:** `overall_survival_rate = df_clean[\"Survived\"].mean()...`\n\n- **Code executed:** `survival_by_sex = df_clean.groupby(\"Sex\")[\"Survived\"].mean().sort_values(ascending=False)...`\n\n- **Code executed:** `survival_by_pclass = df_clean.groupby(\"Pclass\")[\"Survived\"].mean().sort_index()...`\n\n- **Code executed:** `survival_by_embarked = df_clean.groupby(\"Embarked\")[\"Survived\"].mean().sort_values(ascending=False)...`\n\n- **Code executed:** `survival_pclass_sex = df_clean.pivot_table(values=\"Survived\", index=\"Pclass\", columns=\"Sex\", aggfunc=\"mean\")...`\n\n- **Code executed:** `df_clean[\"FamilySizeBin\"] = pd.cut(df_clean[\"FamilySize\"], bins=[0,1,2,4,7,11], labels=[\"1\",\"2\",\"3-4\",\"5-7\",\"8-11\"], include_lowest=True)...`\n\n- **Code executed:** `#Displaying all above...`\n\n### ## 5. Visualizations (Matplotlib)\nOne chart per figure, no seaborn, no custom color settings.\n\n### ### 5.1 Survival by Sex \u2014 Bar Plot\n\n- **Code executed:** `rates = df_clean.groupby(\"Sex\")[\"Survived\"].mean().sort_values(ascending=False)...`\n\n### ### 5.2 Survival by Pclass \u2014 Bar Plot\n\n- **Code executed:** `rates = df_clean.groupby(\"Pclass\")[\"Survived\"].mean().sort_index()...`\n\n### ### 5.3 Survival by Pclass and Sex \u2014 Grouped Bars\n\n- **Code executed:** `pivot_rates = df_clean.pivot_table(values=\"Survived\", index=\"Pclass\", columns=\"Sex\", aggfunc=\"mean\").sort_index()...`\n\n### ### 5.4 Survival by Embarked \u2014 Bar Plot\n\n- **Code executed:** `rates = df_clean.groupby(\"Embarked\")[\"Survived\"].mean().sort_values(ascending=False)...`\n\n### ### 5.5 Correlation Heatmap (Numeric Features)\n\n- **Code executed:** `import numpy as np...`\n\n### ## 6. Key Takeaways\n- Females show a higher survival rate than males\n- First class passengers had higher survival\n- Being alone is associated with lower survival\n- Numeric features show expected relationships (e.g., Fare relates to Pclass)\n\n"
    }
  ],
  "metadata": {
    "kernelspec": {
      "display_name": "Python 3",
      "language": "python",
      "name": "python3"
    },
    "language_info": {
      "name": "python",
      "version": "3.8"
    }
  },
  "nbformat": 4,
  "nbformat_minor": 5
}