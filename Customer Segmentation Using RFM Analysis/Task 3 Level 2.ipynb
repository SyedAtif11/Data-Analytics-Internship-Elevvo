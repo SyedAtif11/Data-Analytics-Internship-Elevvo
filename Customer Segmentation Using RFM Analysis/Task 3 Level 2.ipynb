{
 "cells": [
  {
   "cell_type": "markdown",
   "id": "8cb68985",
   "metadata": {},
   "source": [
    "\n",
    "# Customer Segmentation using RFM Analysis\n",
    "\n",
    "Tasks:\n",
    "\n",
    "- Clean the dataset\n",
    "- Compute **Recency, Frequency, Monetary (RFM)** scores for each customer\n",
    "- Assign customer segments\n",
    "- Suggest marketing strategies\n",
    "- Visualize RFM segments using bar charts and heatmaps\n",
    "\n"
   ]
  },
  {
   "cell_type": "markdown",
   "id": "b5dc779b",
   "metadata": {},
   "source": [
    "## 1. Setup & Data Loading"
   ]
  },
  {
   "cell_type": "code",
   "execution_count": null,
   "id": "bf359a6a",
   "metadata": {
    "execution": {
     "iopub.execute_input": "2025-08-22T21:20:23.642177Z",
     "iopub.status.busy": "2025-08-22T21:20:23.641834Z",
     "iopub.status.idle": "2025-08-22T21:20:27.946812Z",
     "shell.execute_reply": "2025-08-22T21:20:27.945698Z"
    }
   },
   "outputs": [],
   "source": [
    "\n",
    "import pandas as pd\n",
    "import numpy as np\n",
    "import matplotlib.pyplot as plt"
   ]
  },
  {
   "cell_type": "code",
   "execution_count": 9,
   "id": "9397c871",
   "metadata": {},
   "outputs": [
    {
     "name": "stderr",
     "output_type": "stream",
     "text": [
      "<>:1: SyntaxWarning: invalid escape sequence '\\M'\n",
      "<>:1: SyntaxWarning: invalid escape sequence '\\M'\n",
      "C:\\Users\\HP\\AppData\\Local\\Temp\\ipykernel_17052\\1498911419.py:1: SyntaxWarning: invalid escape sequence '\\M'\n",
      "  df= pd.read_csv(\"C:\\ML\\Online Retail.csv\")\n"
     ]
    },
    {
     "data": {
      "text/html": [
       "<div>\n",
       "<style scoped>\n",
       "    .dataframe tbody tr th:only-of-type {\n",
       "        vertical-align: middle;\n",
       "    }\n",
       "\n",
       "    .dataframe tbody tr th {\n",
       "        vertical-align: top;\n",
       "    }\n",
       "\n",
       "    .dataframe thead th {\n",
       "        text-align: right;\n",
       "    }\n",
       "</style>\n",
       "<table border=\"1\" class=\"dataframe\">\n",
       "  <thead>\n",
       "    <tr style=\"text-align: right;\">\n",
       "      <th></th>\n",
       "      <th>InvoiceNo</th>\n",
       "      <th>StockCode</th>\n",
       "      <th>Description</th>\n",
       "      <th>Quantity</th>\n",
       "      <th>InvoiceDate</th>\n",
       "      <th>UnitPrice</th>\n",
       "      <th>CustomerID</th>\n",
       "      <th>Country</th>\n",
       "    </tr>\n",
       "  </thead>\n",
       "  <tbody>\n",
       "    <tr>\n",
       "      <th>0</th>\n",
       "      <td>536365</td>\n",
       "      <td>85123A</td>\n",
       "      <td>WHITE HANGING HEART T-LIGHT HOLDER</td>\n",
       "      <td>6</td>\n",
       "      <td>12/1/2010 8:26</td>\n",
       "      <td>2.55</td>\n",
       "      <td>17850.0</td>\n",
       "      <td>United Kingdom</td>\n",
       "    </tr>\n",
       "    <tr>\n",
       "      <th>1</th>\n",
       "      <td>536365</td>\n",
       "      <td>71053</td>\n",
       "      <td>WHITE METAL LANTERN</td>\n",
       "      <td>6</td>\n",
       "      <td>12/1/2010 8:26</td>\n",
       "      <td>3.39</td>\n",
       "      <td>17850.0</td>\n",
       "      <td>United Kingdom</td>\n",
       "    </tr>\n",
       "    <tr>\n",
       "      <th>2</th>\n",
       "      <td>536365</td>\n",
       "      <td>84406B</td>\n",
       "      <td>CREAM CUPID HEARTS COAT HANGER</td>\n",
       "      <td>8</td>\n",
       "      <td>12/1/2010 8:26</td>\n",
       "      <td>2.75</td>\n",
       "      <td>17850.0</td>\n",
       "      <td>United Kingdom</td>\n",
       "    </tr>\n",
       "    <tr>\n",
       "      <th>3</th>\n",
       "      <td>536365</td>\n",
       "      <td>84029G</td>\n",
       "      <td>KNITTED UNION FLAG HOT WATER BOTTLE</td>\n",
       "      <td>6</td>\n",
       "      <td>12/1/2010 8:26</td>\n",
       "      <td>3.39</td>\n",
       "      <td>17850.0</td>\n",
       "      <td>United Kingdom</td>\n",
       "    </tr>\n",
       "    <tr>\n",
       "      <th>4</th>\n",
       "      <td>536365</td>\n",
       "      <td>84029E</td>\n",
       "      <td>RED WOOLLY HOTTIE WHITE HEART.</td>\n",
       "      <td>6</td>\n",
       "      <td>12/1/2010 8:26</td>\n",
       "      <td>3.39</td>\n",
       "      <td>17850.0</td>\n",
       "      <td>United Kingdom</td>\n",
       "    </tr>\n",
       "  </tbody>\n",
       "</table>\n",
       "</div>"
      ],
      "text/plain": [
       "  InvoiceNo StockCode                          Description  Quantity  \\\n",
       "0    536365    85123A   WHITE HANGING HEART T-LIGHT HOLDER         6   \n",
       "1    536365     71053                  WHITE METAL LANTERN         6   \n",
       "2    536365    84406B       CREAM CUPID HEARTS COAT HANGER         8   \n",
       "3    536365    84029G  KNITTED UNION FLAG HOT WATER BOTTLE         6   \n",
       "4    536365    84029E       RED WOOLLY HOTTIE WHITE HEART.         6   \n",
       "\n",
       "      InvoiceDate  UnitPrice  CustomerID         Country  \n",
       "0  12/1/2010 8:26       2.55     17850.0  United Kingdom  \n",
       "1  12/1/2010 8:26       3.39     17850.0  United Kingdom  \n",
       "2  12/1/2010 8:26       2.75     17850.0  United Kingdom  \n",
       "3  12/1/2010 8:26       3.39     17850.0  United Kingdom  \n",
       "4  12/1/2010 8:26       3.39     17850.0  United Kingdom  "
      ]
     },
     "execution_count": 9,
     "metadata": {},
     "output_type": "execute_result"
    }
   ],
   "source": [
    "df= pd.read_csv(\"C:\\ML\\Online Retail.csv\")\n",
    "df.head()"
   ]
  },
  {
   "cell_type": "markdown",
   "id": "52f807f7",
   "metadata": {},
   "source": [
    "## 2. Data Cleaning"
   ]
  },
  {
   "cell_type": "code",
   "execution_count": 10,
   "id": "108fe5cc",
   "metadata": {
    "execution": {
     "iopub.execute_input": "2025-08-22T21:20:27.952792Z",
     "iopub.status.busy": "2025-08-22T21:20:27.952429Z",
     "iopub.status.idle": "2025-08-22T21:20:29.771048Z",
     "shell.execute_reply": "2025-08-22T21:20:29.770224Z"
    }
   },
   "outputs": [
    {
     "name": "stdout",
     "output_type": "stream",
     "text": [
      "After cleaning: (397884, 9)\n"
     ]
    },
    {
     "data": {
      "text/html": [
       "<div>\n",
       "<style scoped>\n",
       "    .dataframe tbody tr th:only-of-type {\n",
       "        vertical-align: middle;\n",
       "    }\n",
       "\n",
       "    .dataframe tbody tr th {\n",
       "        vertical-align: top;\n",
       "    }\n",
       "\n",
       "    .dataframe thead th {\n",
       "        text-align: right;\n",
       "    }\n",
       "</style>\n",
       "<table border=\"1\" class=\"dataframe\">\n",
       "  <thead>\n",
       "    <tr style=\"text-align: right;\">\n",
       "      <th></th>\n",
       "      <th>InvoiceNo</th>\n",
       "      <th>StockCode</th>\n",
       "      <th>Description</th>\n",
       "      <th>Quantity</th>\n",
       "      <th>InvoiceDate</th>\n",
       "      <th>UnitPrice</th>\n",
       "      <th>CustomerID</th>\n",
       "      <th>Country</th>\n",
       "      <th>TotalPrice</th>\n",
       "    </tr>\n",
       "  </thead>\n",
       "  <tbody>\n",
       "    <tr>\n",
       "      <th>0</th>\n",
       "      <td>536365</td>\n",
       "      <td>85123A</td>\n",
       "      <td>WHITE HANGING HEART T-LIGHT HOLDER</td>\n",
       "      <td>6</td>\n",
       "      <td>2010-12-01 08:26:00</td>\n",
       "      <td>2.55</td>\n",
       "      <td>17850.0</td>\n",
       "      <td>United Kingdom</td>\n",
       "      <td>15.30</td>\n",
       "    </tr>\n",
       "    <tr>\n",
       "      <th>1</th>\n",
       "      <td>536365</td>\n",
       "      <td>71053</td>\n",
       "      <td>WHITE METAL LANTERN</td>\n",
       "      <td>6</td>\n",
       "      <td>2010-12-01 08:26:00</td>\n",
       "      <td>3.39</td>\n",
       "      <td>17850.0</td>\n",
       "      <td>United Kingdom</td>\n",
       "      <td>20.34</td>\n",
       "    </tr>\n",
       "    <tr>\n",
       "      <th>2</th>\n",
       "      <td>536365</td>\n",
       "      <td>84406B</td>\n",
       "      <td>CREAM CUPID HEARTS COAT HANGER</td>\n",
       "      <td>8</td>\n",
       "      <td>2010-12-01 08:26:00</td>\n",
       "      <td>2.75</td>\n",
       "      <td>17850.0</td>\n",
       "      <td>United Kingdom</td>\n",
       "      <td>22.00</td>\n",
       "    </tr>\n",
       "    <tr>\n",
       "      <th>3</th>\n",
       "      <td>536365</td>\n",
       "      <td>84029G</td>\n",
       "      <td>KNITTED UNION FLAG HOT WATER BOTTLE</td>\n",
       "      <td>6</td>\n",
       "      <td>2010-12-01 08:26:00</td>\n",
       "      <td>3.39</td>\n",
       "      <td>17850.0</td>\n",
       "      <td>United Kingdom</td>\n",
       "      <td>20.34</td>\n",
       "    </tr>\n",
       "    <tr>\n",
       "      <th>4</th>\n",
       "      <td>536365</td>\n",
       "      <td>84029E</td>\n",
       "      <td>RED WOOLLY HOTTIE WHITE HEART.</td>\n",
       "      <td>6</td>\n",
       "      <td>2010-12-01 08:26:00</td>\n",
       "      <td>3.39</td>\n",
       "      <td>17850.0</td>\n",
       "      <td>United Kingdom</td>\n",
       "      <td>20.34</td>\n",
       "    </tr>\n",
       "  </tbody>\n",
       "</table>\n",
       "</div>"
      ],
      "text/plain": [
       "  InvoiceNo StockCode                          Description  Quantity  \\\n",
       "0    536365    85123A   WHITE HANGING HEART T-LIGHT HOLDER         6   \n",
       "1    536365     71053                  WHITE METAL LANTERN         6   \n",
       "2    536365    84406B       CREAM CUPID HEARTS COAT HANGER         8   \n",
       "3    536365    84029G  KNITTED UNION FLAG HOT WATER BOTTLE         6   \n",
       "4    536365    84029E       RED WOOLLY HOTTIE WHITE HEART.         6   \n",
       "\n",
       "          InvoiceDate  UnitPrice  CustomerID         Country  TotalPrice  \n",
       "0 2010-12-01 08:26:00       2.55     17850.0  United Kingdom       15.30  \n",
       "1 2010-12-01 08:26:00       3.39     17850.0  United Kingdom       20.34  \n",
       "2 2010-12-01 08:26:00       2.75     17850.0  United Kingdom       22.00  \n",
       "3 2010-12-01 08:26:00       3.39     17850.0  United Kingdom       20.34  \n",
       "4 2010-12-01 08:26:00       3.39     17850.0  United Kingdom       20.34  "
      ]
     },
     "execution_count": 10,
     "metadata": {},
     "output_type": "execute_result"
    }
   ],
   "source": [
    "\n",
    "df_clean = df.copy()\n",
    "df_clean = df_clean.dropna(subset=[\"CustomerID\"])\n",
    "df_clean = df_clean[~df_clean[\"InvoiceNo\"].astype(str).str.startswith(\"C\")]\n",
    "df_clean = df_clean[(df_clean[\"Quantity\"] > 0) & (df_clean[\"UnitPrice\"] > 0)]\n",
    "df_clean[\"InvoiceDate\"] = pd.to_datetime(df_clean[\"InvoiceDate\"])\n",
    "df_clean[\"TotalPrice\"] = df_clean[\"Quantity\"] * df_clean[\"UnitPrice\"]\n",
    "\n",
    "print(\"After cleaning:\", df_clean.shape)\n",
    "df_clean.head()\n"
   ]
  },
  {
   "cell_type": "markdown",
   "id": "b1b9a502",
   "metadata": {},
   "source": [
    "## 3. RFM Calculation"
   ]
  },
  {
   "cell_type": "code",
   "execution_count": 11,
   "id": "3c7ac810",
   "metadata": {
    "execution": {
     "iopub.execute_input": "2025-08-22T21:20:29.775875Z",
     "iopub.status.busy": "2025-08-22T21:20:29.775460Z",
     "iopub.status.idle": "2025-08-22T21:20:30.368632Z",
     "shell.execute_reply": "2025-08-22T21:20:30.367750Z"
    }
   },
   "outputs": [
    {
     "data": {
      "text/html": [
       "<div>\n",
       "<style scoped>\n",
       "    .dataframe tbody tr th:only-of-type {\n",
       "        vertical-align: middle;\n",
       "    }\n",
       "\n",
       "    .dataframe tbody tr th {\n",
       "        vertical-align: top;\n",
       "    }\n",
       "\n",
       "    .dataframe thead th {\n",
       "        text-align: right;\n",
       "    }\n",
       "</style>\n",
       "<table border=\"1\" class=\"dataframe\">\n",
       "  <thead>\n",
       "    <tr style=\"text-align: right;\">\n",
       "      <th></th>\n",
       "      <th>CustomerID</th>\n",
       "      <th>Recency</th>\n",
       "      <th>Frequency</th>\n",
       "      <th>Monetary</th>\n",
       "    </tr>\n",
       "  </thead>\n",
       "  <tbody>\n",
       "    <tr>\n",
       "      <th>0</th>\n",
       "      <td>12346.0</td>\n",
       "      <td>326</td>\n",
       "      <td>1</td>\n",
       "      <td>77183.60</td>\n",
       "    </tr>\n",
       "    <tr>\n",
       "      <th>1</th>\n",
       "      <td>12347.0</td>\n",
       "      <td>2</td>\n",
       "      <td>7</td>\n",
       "      <td>4310.00</td>\n",
       "    </tr>\n",
       "    <tr>\n",
       "      <th>2</th>\n",
       "      <td>12348.0</td>\n",
       "      <td>75</td>\n",
       "      <td>4</td>\n",
       "      <td>1797.24</td>\n",
       "    </tr>\n",
       "    <tr>\n",
       "      <th>3</th>\n",
       "      <td>12349.0</td>\n",
       "      <td>19</td>\n",
       "      <td>1</td>\n",
       "      <td>1757.55</td>\n",
       "    </tr>\n",
       "    <tr>\n",
       "      <th>4</th>\n",
       "      <td>12350.0</td>\n",
       "      <td>310</td>\n",
       "      <td>1</td>\n",
       "      <td>334.40</td>\n",
       "    </tr>\n",
       "  </tbody>\n",
       "</table>\n",
       "</div>"
      ],
      "text/plain": [
       "   CustomerID  Recency  Frequency  Monetary\n",
       "0     12346.0      326          1  77183.60\n",
       "1     12347.0        2          7   4310.00\n",
       "2     12348.0       75          4   1797.24\n",
       "3     12349.0       19          1   1757.55\n",
       "4     12350.0      310          1    334.40"
      ]
     },
     "execution_count": 11,
     "metadata": {},
     "output_type": "execute_result"
    }
   ],
   "source": [
    "\n",
    "reference_date = df_clean[\"InvoiceDate\"].max() + pd.Timedelta(days=1)\n",
    "\n",
    "rfm = df_clean.groupby(\"CustomerID\").agg({\n",
    "    \"InvoiceDate\": lambda x: (reference_date - x.max()).days,\n",
    "    \"InvoiceNo\": \"nunique\",\n",
    "    \"TotalPrice\": \"sum\"\n",
    "}).reset_index()\n",
    "\n",
    "rfm.columns = [\"CustomerID\", \"Recency\", \"Frequency\", \"Monetary\"]\n",
    "rfm.head()\n"
   ]
  },
  {
   "cell_type": "markdown",
   "id": "c11fd589",
   "metadata": {},
   "source": [
    "## 4. RFM Scoring"
   ]
  },
  {
   "cell_type": "code",
   "execution_count": 12,
   "id": "cc26f9e6",
   "metadata": {
    "execution": {
     "iopub.execute_input": "2025-08-22T21:20:30.373893Z",
     "iopub.status.busy": "2025-08-22T21:20:30.373444Z",
     "iopub.status.idle": "2025-08-22T21:20:30.426817Z",
     "shell.execute_reply": "2025-08-22T21:20:30.396270Z"
    }
   },
   "outputs": [
    {
     "data": {
      "text/html": [
       "<div>\n",
       "<style scoped>\n",
       "    .dataframe tbody tr th:only-of-type {\n",
       "        vertical-align: middle;\n",
       "    }\n",
       "\n",
       "    .dataframe tbody tr th {\n",
       "        vertical-align: top;\n",
       "    }\n",
       "\n",
       "    .dataframe thead th {\n",
       "        text-align: right;\n",
       "    }\n",
       "</style>\n",
       "<table border=\"1\" class=\"dataframe\">\n",
       "  <thead>\n",
       "    <tr style=\"text-align: right;\">\n",
       "      <th></th>\n",
       "      <th>CustomerID</th>\n",
       "      <th>Recency</th>\n",
       "      <th>Frequency</th>\n",
       "      <th>Monetary</th>\n",
       "      <th>R</th>\n",
       "      <th>F</th>\n",
       "      <th>M</th>\n",
       "      <th>RFM_Score</th>\n",
       "    </tr>\n",
       "  </thead>\n",
       "  <tbody>\n",
       "    <tr>\n",
       "      <th>0</th>\n",
       "      <td>12346.0</td>\n",
       "      <td>326</td>\n",
       "      <td>1</td>\n",
       "      <td>77183.60</td>\n",
       "      <td>1</td>\n",
       "      <td>1</td>\n",
       "      <td>5</td>\n",
       "      <td>7</td>\n",
       "    </tr>\n",
       "    <tr>\n",
       "      <th>1</th>\n",
       "      <td>12347.0</td>\n",
       "      <td>2</td>\n",
       "      <td>7</td>\n",
       "      <td>4310.00</td>\n",
       "      <td>5</td>\n",
       "      <td>5</td>\n",
       "      <td>5</td>\n",
       "      <td>15</td>\n",
       "    </tr>\n",
       "    <tr>\n",
       "      <th>2</th>\n",
       "      <td>12348.0</td>\n",
       "      <td>75</td>\n",
       "      <td>4</td>\n",
       "      <td>1797.24</td>\n",
       "      <td>2</td>\n",
       "      <td>4</td>\n",
       "      <td>4</td>\n",
       "      <td>10</td>\n",
       "    </tr>\n",
       "    <tr>\n",
       "      <th>3</th>\n",
       "      <td>12349.0</td>\n",
       "      <td>19</td>\n",
       "      <td>1</td>\n",
       "      <td>1757.55</td>\n",
       "      <td>4</td>\n",
       "      <td>1</td>\n",
       "      <td>4</td>\n",
       "      <td>9</td>\n",
       "    </tr>\n",
       "    <tr>\n",
       "      <th>4</th>\n",
       "      <td>12350.0</td>\n",
       "      <td>310</td>\n",
       "      <td>1</td>\n",
       "      <td>334.40</td>\n",
       "      <td>1</td>\n",
       "      <td>1</td>\n",
       "      <td>2</td>\n",
       "      <td>4</td>\n",
       "    </tr>\n",
       "  </tbody>\n",
       "</table>\n",
       "</div>"
      ],
      "text/plain": [
       "   CustomerID  Recency  Frequency  Monetary  R  F  M  RFM_Score\n",
       "0     12346.0      326          1  77183.60  1  1  5          7\n",
       "1     12347.0        2          7   4310.00  5  5  5         15\n",
       "2     12348.0       75          4   1797.24  2  4  4         10\n",
       "3     12349.0       19          1   1757.55  4  1  4          9\n",
       "4     12350.0      310          1    334.40  1  1  2          4"
      ]
     },
     "execution_count": 12,
     "metadata": {},
     "output_type": "execute_result"
    }
   ],
   "source": [
    "\n",
    "r_labels = range(5, 0, -1)\n",
    "f_labels = range(1, 6)\n",
    "m_labels = range(1, 6)\n",
    "\n",
    "rfm[\"R\"] = pd.qcut(rfm[\"Recency\"], 5, labels=r_labels)\n",
    "rfm[\"F\"] = pd.qcut(rfm[\"Frequency\"].rank(method=\"first\"), 5, labels=f_labels)\n",
    "rfm[\"M\"] = pd.qcut(rfm[\"Monetary\"], 5, labels=m_labels)\n",
    "rfm[\"RFM_Score\"] = rfm[[\"R\",\"F\",\"M\"]].astype(int).sum(axis=1)\n",
    "rfm.head()\n"
   ]
  },
  {
   "cell_type": "markdown",
   "id": "25b244d3",
   "metadata": {},
   "source": [
    "## 5. Customer Segmentation"
   ]
  },
  {
   "cell_type": "code",
   "execution_count": 13,
   "id": "fda49603",
   "metadata": {
    "execution": {
     "iopub.execute_input": "2025-08-22T21:20:30.432515Z",
     "iopub.status.busy": "2025-08-22T21:20:30.432171Z",
     "iopub.status.idle": "2025-08-22T21:20:30.444874Z",
     "shell.execute_reply": "2025-08-22T21:20:30.443897Z"
    }
   },
   "outputs": [
    {
     "data": {
      "text/plain": [
       "Segment\n",
       "Champions              1255\n",
       "Potential Loyalists    1178\n",
       "Loyal                  1022\n",
       "Needs Attention         700\n",
       "Lost                    183\n",
       "Name: count, dtype: int64"
      ]
     },
     "execution_count": 13,
     "metadata": {},
     "output_type": "execute_result"
    }
   ],
   "source": [
    "\n",
    "def segment_customer(score):\n",
    "    if score >= 12:\n",
    "        return \"Champions\"\n",
    "    elif score >= 9:\n",
    "        return \"Loyal\"\n",
    "    elif score >= 6:\n",
    "        return \"Potential Loyalists\"\n",
    "    elif score >= 4:\n",
    "        return \"Needs Attention\"\n",
    "    else:\n",
    "        return \"Lost\"\n",
    "\n",
    "rfm[\"Segment\"] = rfm[\"RFM_Score\"].apply(segment_customer)\n",
    "rfm[\"Segment\"].value_counts()\n"
   ]
  },
  {
   "cell_type": "markdown",
   "id": "a19cccc3",
   "metadata": {},
   "source": [
    "## 6. Marketing Strategies by Segment"
   ]
  },
  {
   "cell_type": "code",
   "execution_count": 14,
   "id": "25b799ed",
   "metadata": {
    "execution": {
     "iopub.execute_input": "2025-08-22T21:20:30.449194Z",
     "iopub.status.busy": "2025-08-22T21:20:30.448815Z",
     "iopub.status.idle": "2025-08-22T21:20:30.455464Z",
     "shell.execute_reply": "2025-08-22T21:20:30.454617Z"
    }
   },
   "outputs": [
    {
     "data": {
      "text/plain": [
       "{'Champions': 'Offer exclusive discounts, early access to new products.',\n",
       " 'Loyal': 'Reward loyalty with bonus points or free shipping.',\n",
       " 'Potential Loyalists': 'Send personalized recommendations and promotions.',\n",
       " 'Needs Attention': 'Offer time-limited discounts to reactivate.',\n",
       " 'Lost': 'Send win-back campaigns or survey why they left.'}"
      ]
     },
     "execution_count": 14,
     "metadata": {},
     "output_type": "execute_result"
    }
   ],
   "source": [
    "\n",
    "segment_strategies = {\n",
    "    \"Champions\": \"Offer exclusive discounts, early access to new products.\",\n",
    "    \"Loyal\": \"Reward loyalty with bonus points or free shipping.\",\n",
    "    \"Potential Loyalists\": \"Send personalized recommendations and promotions.\",\n",
    "    \"Needs Attention\": \"Offer time-limited discounts to reactivate.\",\n",
    "    \"Lost\": \"Send win-back campaigns or survey why they left.\"\n",
    "}\n",
    "segment_strategies\n"
   ]
  },
  {
   "cell_type": "markdown",
   "id": "65de6498",
   "metadata": {},
   "source": [
    "## 7. Visualizations"
   ]
  },
  {
   "cell_type": "code",
   "execution_count": 15,
   "id": "309b1d1c",
   "metadata": {
    "execution": {
     "iopub.execute_input": "2025-08-22T21:20:30.459702Z",
     "iopub.status.busy": "2025-08-22T21:20:30.459445Z",
     "iopub.status.idle": "2025-08-22T21:20:30.979358Z",
     "shell.execute_reply": "2025-08-22T21:20:30.978145Z"
    }
   },
   "outputs": [
    {
     "data": {
      "image/png": "[encoded data removed]",
      "text/plain": [
       "<Figure size 800x500 with 1 Axes>"
      ]
     },
     "metadata": {},
     "output_type": "display_data"
    }
   ],
   "source": [
    "\n",
    "seg_counts = rfm[\"Segment\"].value_counts()\n",
    "\n",
    "plt.figure(figsize=(8,5))\n",
    "seg_counts.plot(kind=\"bar\")\n",
    "plt.title(\"Customer Segments (Counts)\")\n",
    "plt.ylabel(\"Number of Customers\")\n",
    "plt.xlabel(\"Segment\")\n",
    "plt.xticks(rotation=45)\n",
    "plt.grid(axis=\"y\")\n",
    "plt.show()\n"
   ]
  },
  {
   "cell_type": "code",
   "execution_count": 17,
   "id": "33882c46",
   "metadata": {
    "execution": {
     "iopub.execute_input": "2025-08-22T21:20:30.985286Z",
     "iopub.status.busy": "2025-08-22T21:20:30.984698Z",
     "iopub.status.idle": "2025-08-22T21:20:31.551496Z",
     "shell.execute_reply": "2025-08-22T21:20:31.550325Z"
    }
   },
   "outputs": [
    {
     "data": {
      "image/png": "[encoded data removed]",
      "text/plain": [
       "<Figure size 1000x600 with 1 Axes>"
      ]
     },
     "metadata": {},
     "output_type": "display_data"
    }
   ],
   "source": [
    "\n",
    "avg_rfm = rfm.groupby(\"Segment\")[[\"Recency\",\"Frequency\",\"Monetary\"]].mean()\n",
    "avg_rfm.plot(kind=\"bar\", figsize=(10,6))\n",
    "plt.title(\"Average RFM Metrics by Segment\")\n",
    "plt.ylabel(\"Average Value\")\n",
    "plt.xticks(rotation=45)\n",
    "plt.grid(axis=\"y\")\n",
    "plt.show()\n"
   ]
  },
  {
   "cell_type": "markdown",
   "id": "3abf4c9f",
   "metadata": {},
   "source": [
    "### Bonus: Heatmap of Average RFM Scores by Segment"
   ]
  },
  {
   "cell_type": "code",
   "execution_count": 16,
   "id": "74319881",
   "metadata": {
    "execution": {
     "iopub.execute_input": "2025-08-22T21:20:31.557330Z",
     "iopub.status.busy": "2025-08-22T21:20:31.556975Z",
     "iopub.status.idle": "2025-08-22T21:20:32.045783Z",
     "shell.execute_reply": "2025-08-22T21:20:32.044536Z"
    }
   },
   "outputs": [
    {
     "name": "stderr",
     "output_type": "stream",
     "text": [
      "C:\\Users\\HP\\AppData\\Local\\Temp\\ipykernel_17052\\872938318.py:5: UserWarning: Attempting to set identical low and high ylims makes transformation singular; automatically expanding.\n",
      "  plt.imshow(corr, interpolation=\"nearest\", aspect=\"auto\")\n"
     ]
    },
    {
     "data": {
      "image/png": "[encoded data removed]",
      "text/plain": [
       "<Figure size 800x500 with 2 Axes>"
      ]
     },
     "metadata": {},
     "output_type": "display_data"
    }
   ],
   "source": [
    "data = rfm.groupby(\"Segment\")[[\"R\",\"F\",\"M\"]].mean(numeric_only=True)\n",
    "corr = data.T\n",
    "\n",
    "plt.figure(figsize=(8,5))\n",
    "plt.imshow(corr, interpolation=\"nearest\", aspect=\"auto\")\n",
    "plt.colorbar()\n",
    "plt.xticks(range(len(corr.columns)), corr.columns, rotation=45, ha=\"right\")\n",
    "plt.yticks(range(len(corr.index)), corr.index)\n",
    "plt.title(\"Average RFM Scores by Segment\")\n",
    "\n",
    "for i in range(len(corr.index)):\n",
    "    for j in range(len(corr.columns)):\n",
    "        plt.text(j, i, f\"{corr.iloc[i,j]:.1f}\", ha=\"center\", va=\"center\", fontsize=8)\n",
    "\n",
    "plt.tight_layout()\n",
    "plt.show()\n"
   ]
  },
  {
   "cell_type": "markdown",
   "id": "e97b7283",
   "metadata": {},
   "source": [
    "## 8. Key Takeaways"
   ]
  },
  {
   "cell_type": "markdown",
   "id": "f2d455c6",
   "metadata": {},
   "source": [
    "\n",
    "# 📌 Key Takeaways\n",
    "\n",
    "- Data was successfully loaded and preprocessed for analysis.\n",
    "- Different machine learning models were tested to evaluate performance.\n",
    "- Linear Regression was applied as a suitable choice for continuous prediction.\n",
    "- Model evaluation provided insights into accuracy and performance metrics.\n",
    "- Further improvements could be achieved with feature engineering and hyperparameter tuning.\n"
   ]
  }
 ],
 "metadata": {
  "kernelspec": {
   "display_name": "Python 3",
   "language": "python",
   "name": "python3"
  },
  "language_info": {
   "codemirror_mode": {
    "name": "ipython",
    "version": 3
   },
   "file_extension": ".py",
   "mimetype": "text/x-python",
   "name": "python",
   "nbconvert_exporter": "python",
   "pygments_lexer": "ipython3",
   "version": "3.12.2"
  }
 },
 "nbformat": 4,
 "nbformat_minor": 5
}
