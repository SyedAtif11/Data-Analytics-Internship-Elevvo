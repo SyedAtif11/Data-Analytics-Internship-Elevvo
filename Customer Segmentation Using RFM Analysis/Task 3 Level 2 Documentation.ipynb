{
 "cells": [
  {
   "cell_type": "markdown",
   "id": "dac7e862",
   "metadata": {},
   "source": [
    "# Customer Segmentation using RFM Analysis\n"
   ]
  },
  {
   "cell_type": "markdown",
   "id": "a1e0ffc1",
   "metadata": {},
   "source": [
    "This notebook documents the steps performed in the original implementation. It explains the objective, approach, and expected outcome of each section.\n"
   ]
  },
  {
   "cell_type": "markdown",
   "id": "9ffef4c5",
   "metadata": {},
   "source": [
    "## 1. Setup & Data Loading\n",
    "- **Objective:** Import required libraries and load the dataset.\n",
    "- **Approach:** Used `pandas`, `numpy`, and `matplotlib` for data manipulation and visualization. Loaded the dataset `Online Retail.csv` into a dataframe.\n",
    "- **Outcome:** Dataset is ready for cleaning and analysis.\n"
   ]
  },
  {
   "cell_type": "markdown",
   "id": "ff95bd59",
   "metadata": {},
   "source": [
    "## 2. Data Cleaning\n",
    "- **Objective:** Prepare clean data for RFM analysis.\n",
    "- **Approach:**\n",
    "  - Dropped rows with missing `CustomerID`.\n",
    "  - Removed cancelled transactions (invoices starting with 'C').\n",
    "  - Kept only transactions with positive quantities.\n",
    "- **Outcome:** A cleaned dataset representing valid customer purchases.\n"
   ]
  },
  {
   "cell_type": "markdown",
   "id": "868d62f2",
   "metadata": {},
   "source": [
    "## 3. RFM Calculation\n",
    "- **Objective:** Calculate Recency, Frequency, and Monetary values for each customer.\n",
    "- **Approach:**\n",
    "  - Defined reference date as one day after the last purchase.\n",
    "  - **Recency:** Days since the most recent purchase.\n",
    "  - **Frequency:** Count of unique invoices per customer.\n",
    "  - **Monetary:** Total amount spent by each customer.\n",
    "- **Outcome:** Each customer is summarized with three key metrics.\n"
   ]
  },
  {
   "cell_type": "markdown",
   "id": "8deffd2b",
   "metadata": {},
   "source": [
    "## 4. RFM Scoring\n",
    "- **Objective:** Assign scores to Recency, Frequency, and Monetary values.\n",
    "- **Approach:** Used `qcut` to assign scores (1–5) to each metric.\n",
    "- **Outcome:** Every customer is labeled with R, F, and M scores, forming an RFM profile.\n"
   ]
  },
  {
   "cell_type": "markdown",
   "id": "896a10cc",
   "metadata": {},
   "source": [
    "## 5. Customer Segmentation\n",
    "- **Objective:** Combine RFM scores into segments for marketing strategies.\n",
    "- **Approach:**\n",
    "  - Created segments such as 'Champions', 'Loyal Customers', 'At Risk', etc. based on RFM combinations.\n",
    "  - Grouped customers to identify high-value and low-value segments.\n",
    "- **Outcome:** Clear classification of customers for targeted marketing.\n"
   ]
  },
  {
   "cell_type": "markdown",
   "id": "b4e11453",
   "metadata": {},
   "source": [
    "## 6. Visualization\n",
    "- **Objective:** Understand distribution of customers across segments.\n",
    "- **Approach:**\n",
    "  - Plotted bar charts and heatmaps to visualize counts of customers per segment.\n",
    "  - Compared average recency, frequency, and monetary values across groups.\n",
    "- **Outcome:** Insights into customer behavior and segment characteristics.\n"
   ]
  },
  {
   "cell_type": "markdown",
   "id": "167b7f4a",
   "metadata": {},
   "source": [
    "## 7. Business Insights\n",
    "- **High-value customers** (Champions, Loyal Customers) contribute most revenue.\n",
    "- **Medium-value customers** (Potential Loyalist, Needs Attention) can be nurtured.\n",
    "- **Low-value customers** (At Risk, Lost) require reactivation strategies or can be deprioritized.\n"
   ]
  },
  {
   "cell_type": "markdown",
   "id": "d4a7cd6d",
   "metadata": {},
   "source": [
    "---\n"
   ]
  },
  {
   "cell_type": "markdown",
   "id": "3f20f06d",
   "metadata": {},
   "source": [
    "### Conclusion\n",
    "The notebook successfully applied **RFM analysis** to segment customers, enabling data-driven marketing decisions. Businesses can now design campaigns to retain valuable customers, recover at-risk ones, and optimize resources."
   ]
  }
 ],
 "metadata": {},
 "nbformat": 4,
 "nbformat_minor": 5
}
