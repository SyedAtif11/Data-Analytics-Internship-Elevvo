{
 "cells": [
  {
   "cell_type": "markdown",
   "id": "5b19850d",
   "metadata": {},
   "source": [
    "#### Original Markdown\n",
    "## 1. Import Libraries"
   ]
  },
  {
   "cell_type": "markdown",
   "id": "7e2967c4",
   "metadata": {},
   "source": [
    "#### Code Explanation\n",
    "This cell performs the following task:\n",
    "\n",
    "```python\n",
    "\n",
    "import pandas as pd\n",
    "import numpy as np\n",
    "import matplotlib.pyplot as plt\n",
    "import seaborn as sns\n",
    "from sklearn.preprocessing import LabelEncoder\n",
    "\n",
    "\n",
    "```"
   ]
  },
  {
   "cell_type": "markdown",
   "id": "b7049ced",
   "metadata": {},
   "source": [
    "#### Original Markdown\n",
    "## 2. Load Dataset"
   ]
  },
  {
   "cell_type": "markdown",
   "id": "1a7626d2",
   "metadata": {},
   "source": [
    "#### Code Explanation\n",
    "This cell performs the following task:\n",
    "\n",
    "```python\n",
    "\n",
    "df=pd.read_csv(\"kaggle_survey_2017_2021.csv\")\n",
    "df.head()\n",
    "\n",
    "```"
   ]
  },
  {
   "cell_type": "markdown",
   "id": "8a69a31b",
   "metadata": {},
   "source": [
    "#### Original Markdown\n",
    "## 3. Data Cleaning"
   ]
  },
  {
   "cell_type": "markdown",
   "id": "f54d0d43",
   "metadata": {},
   "source": [
    "#### Code Explanation\n",
    "This cell performs the following task:\n",
    "\n",
    "```python\n",
    "# Check total missing values per column\n",
    "print(df.isnull().sum())\n",
    "\n",
    "# Check percentage of missing values per column\n",
    "print((df.isnull().mean() * 100).round(2))\n",
    "\n",
    "# Quick summary of missing values\n",
    "missing_summary = pd.DataFrame({\n",
    "    \"Missing Values\": df.isnull().sum(),\n",
    "    \"Percentage\": (df.isnull().mean() * 100).round(2)\n",
    "})\n",
    "print(missing_summary)\n",
    "\n",
    "```"
   ]
  },
  {
   "cell_type": "markdown",
   "id": "098dfcd8",
   "metadata": {},
   "source": [
    "#### Code Explanation\n",
    "This cell performs the following task:\n",
    "\n",
    "```python\n",
    "# Handle missing values (drop columns with >40% missing, fill others with mode/median)\n",
    "\n",
    "# 1. Drop columns with more than 40% missing values\n",
    "threshold = 0.4\n",
    "df = df.loc[:, df.isnull().mean() < threshold]\n",
    "\n",
    "# 2. Fill categorical (object) columns with Mode (most frequent value)\n",
    "for col in df.select_dtypes(include='object').columns:\n",
    "    if df[col].isnull().sum() > 0:   # only fill if missing exists\n",
    "        df[col] = df[col].fillna(df[col].mode()[0])\n",
    "\n",
    "# 3. Fill numeric columns with Median\n",
    "for col in df.select_dtypes(include=['int64', 'float64']).columns:\n",
    "    if df[col].isnull().sum() > 0:   # only fill if missing exists\n",
    "        df[col] = df[col].fillna(df[col].median())\n",
    "\n",
    "# 4. Check if any missing values remain\n",
    "print(df.isnull().sum().sum(), \"missing values left in dataset\")\n",
    "\n",
    "```"
   ]
  },
  {
   "cell_type": "markdown",
   "id": "890b658a",
   "metadata": {},
   "source": [
    "#### Code Explanation\n",
    "This cell performs the following task:\n",
    "\n",
    "```python\n",
    "\n",
    "# Check for duplicates\n",
    "duplicates = df.duplicated().sum()\n",
    "```"
   ]
  },
  {
   "cell_type": "markdown",
   "id": "5c13035c",
   "metadata": {},
   "source": [
    "#### Code Explanation\n",
    "This cell performs the following task:\n",
    "\n",
    "```python\n",
    "# Drop duplicates\n",
    "df = df.drop_duplicates()\n",
    "```"
   ]
  },
  {
   "cell_type": "markdown",
   "id": "5a63cc09",
   "metadata": {},
   "source": [
    "#### Code Explanation\n",
    "This cell performs the following task:\n",
    "\n",
    "```python\n",
    "# Handle missing values (drop columns with >40% missing, fill others with mode/median)\n",
    "threshold = 0.4\n",
    "df = df.loc[:, df.isnull().mean() < threshold]\n",
    "\n",
    "# Fill object (categorical) columns with mode\n",
    "for col in df.select_dtypes(include='object').columns:\n",
    "    df[col] = df[col].fillna(df[col].mode()[0])\n",
    "\n",
    "# Fill numeric columns with median\n",
    "for col in df.select_dtypes(include=np.number).columns:\n",
    "    df[col] = df[col].fillna(df[col].median())\n",
    "\n",
    "df.info()\n",
    "\n",
    "```"
   ]
  },
  {
   "cell_type": "markdown",
   "id": "37d84f26",
   "metadata": {},
   "source": [
    "#### Code Explanation\n",
    "This cell performs the following task:\n",
    "\n",
    "```python\n",
    "# Check inconsistent formatting in categorical columns\n",
    "for col in df.select_dtypes(include='object').columns:\n",
    "    print(f\"\\nUnique values in column: {col}\")\n",
    "    print(df[col].unique()[:20])  # show first 20 unique values\n",
    "    print(\"Total unique:\", df[col].nunique())\n",
    "\n",
    "# --- Cleaning Step ---\n",
    "# Standardize formatting (strip spaces + lowercase)\n",
    "for col in df.select_dtypes(include='object').columns:\n",
    "    df[col] = df[col].str.strip()         # remove leading/trailing spaces\n",
    "    df[col] = df[col].str.replace(r'\\s+', ' ', regex=True)  # replace multiple spaces with single\n",
    "    df[col] = df[col].str.lower()         # make all lowercase for consistency\n",
    "\n",
    "# Re-check after cleaning\n",
    "for col in df.select_dtypes(include='object').columns:\n",
    "    print(f\"\\nAfter Cleaning - Unique values in {col}:\")\n",
    "    print(df[col].unique()[:20])\n",
    "    print(\"Total unique:\", df[col].nunique())\n",
    "\n",
    "\n",
    "\n",
    "```"
   ]
  },
  {
   "cell_type": "markdown",
   "id": "f6fac5b9",
   "metadata": {},
   "source": [
    "#### Original Markdown\n",
    "## 4. Handle Categorical Variables"
   ]
  },
  {
   "cell_type": "markdown",
   "id": "c9592994",
   "metadata": {},
   "source": [
    "#### Code Explanation\n",
    "This cell performs the following task:\n",
    "\n",
    "```python\n",
    "from sklearn.preprocessing import LabelEncoder\n",
    "\n",
    "# ---------- Data Cleaning ----------\n",
    "\n",
    "# 1. Drop columns with more than 40% missing values\n",
    "threshold = 0.4\n",
    "df = df.loc[:, df.isnull().mean() < threshold]\n",
    "```"
   ]
  },
  {
   "cell_type": "markdown",
   "id": "4a381de5",
   "metadata": {},
   "source": [
    "#### Code Explanation\n",
    "This cell performs the following task:\n",
    "\n",
    "```python\n",
    "# 2. Fill missing values\n",
    "for col in df.select_dtypes(include='object').columns:\n",
    "    if df[col].isnull().sum() > 0:\n",
    "        df[col] = df[col].fillna(df[col].mode()[0])\n",
    "\n",
    "for col in df.select_dtypes(include=['int64', 'float64']).columns:\n",
    "    if df[col].isnull().sum() > 0:\n",
    "        df[col] = df[col].fillna(df[col].median())\n",
    "```"
   ]
  },
  {
   "cell_type": "markdown",
   "id": "dd21372e",
   "metadata": {},
   "source": [
    "#### Code Explanation\n",
    "This cell performs the following task:\n",
    "\n",
    "```python\n",
    "# 3. Fix inconsistent formatting in categorical columns\n",
    "for col in df.select_dtypes(include='object').columns:\n",
    "    df[col] = df[col].str.strip()\n",
    "    df[col] = df[col].str.replace(r'\\s+', ' ', regex=True)\n",
    "    df[col] = df[col].str.lower()\n",
    "\n",
    "```"
   ]
  },
  {
   "cell_type": "markdown",
   "id": "61543665",
   "metadata": {},
   "source": [
    "#### Code Explanation\n",
    "This cell performs the following task:\n",
    "\n",
    "```python\n",
    "# ---------- Label Encoding ----------\n",
    "\n",
    "label_encoders = {}\n",
    "for col in df.select_dtypes(include='object').columns:\n",
    "    le = LabelEncoder()\n",
    "    df[col] = le.fit_transform(df[col].astype(str))\n",
    "    label_encoders[col] = le   # store encoder for inverse transform if needed\n",
    "\n",
    "# ---------- Check Result ----------\n",
    "print(\"DataFrame shape:\", df.shape)\n",
    "print(\"Data types after encoding:\\n\", df.dtypes)\n",
    "print(df.head())\n",
    "```"
   ]
  },
  {
   "cell_type": "markdown",
   "id": "be2b6d72",
   "metadata": {},
   "source": [
    "#### Code Explanation\n",
    "This cell performs the following task:\n",
    "\n",
    "```python\n",
    "\n",
    "# Apply Label Encoding to categorical variables\n",
    "label_encoders = {}\n",
    "for col in df.select_dtypes(include='object').columns:\n",
    "    le = LabelEncoder()\n",
    "    df[col] = le.fit_transform(df[col].astype(str))\n",
    "    label_encoders[col] = le\n",
    "\n",
    "df.head()\n",
    "\n",
    "```"
   ]
  },
  {
   "cell_type": "markdown",
   "id": "8640d1fd",
   "metadata": {},
   "source": [
    "#### Original Markdown\n",
    "## 5. Extract Insights"
   ]
  },
  {
   "cell_type": "markdown",
   "id": "32f48f93",
   "metadata": {},
   "source": [
    "#### Code Explanation\n",
    "This cell performs the following task:\n",
    "\n",
    "```python\n",
    "insights = {}\n",
    "\n",
    "# Insight 1: Most common age group (Q1)\n",
    "if 'Q1' in df.columns:\n",
    "    insights['Top Age Group'] = df['Q1'].value_counts().idxmax()\n",
    "\n",
    "# Insight 2: Most common gender (Q2)\n",
    "if 'Q2' in df.columns:\n",
    "    insights['Top Gender'] = df['Q2'].value_counts().idxmax()\n",
    "\n",
    "# Insight 3: Most common country (Q3)\n",
    "if 'Q3' in df.columns:\n",
    "    insights['Top Country'] = df['Q3'].value_counts().idxmax()\n",
    "\n",
    "# Insight 4: Education level (Q4)\n",
    "if 'Q4' in df.columns:\n",
    "    insights['Top Education'] = df['Q4'].value_counts().idxmax()\n",
    "\n",
    "# Insight 5: Job Role (Q5)\n",
    "if 'Q5' in df.columns:\n",
    "    insights['Top Job Role'] = df['Q5'].value_counts().idxmax()\n",
    "\n",
    "# Insight 6: Programming Language (Q7_Part_1)\n",
    "if 'Q7_Part_1' in df.columns:\n",
    "    insights['Top Language'] = df['Q7_Part_1'].value_counts().idxmax()\n",
    "\n",
    "insights\n",
    "\n",
    "\n",
    "```"
   ]
  },
  {
   "cell_type": "markdown",
   "id": "2ff76c33",
   "metadata": {},
   "source": [
    "#### Original Markdown\n",
    "## 6. Dashboard: Top 5 Insights"
   ]
  },
  {
   "cell_type": "markdown",
   "id": "e38d0e21",
   "metadata": {},
   "source": [
    "#### Code Explanation\n",
    "This cell performs the following task:\n",
    "\n",
    "```python\n",
    "\n",
    "insights = {}\n",
    "\n",
    "# Example with counts\n",
    "if 'Q1' in df.columns:\n",
    "    top_age = df['Q1'].value_counts().idxmax()\n",
    "    age_count = df['Q1'].value_counts().max()\n",
    "    insights['Top Age Group'] = (top_age, age_count)\n",
    "\n",
    "if 'Q2' in df.columns:\n",
    "    top_gender = df['Q2'].value_counts().idxmax()\n",
    "    gender_count = df['Q2'].value_counts().max()\n",
    "    insights['Top Gender'] = (top_gender, gender_count)\n",
    "\n",
    "if 'Q3' in df.columns:\n",
    "    top_country = df['Q3'].value_counts().idxmax()\n",
    "    country_count = df['Q3'].value_counts().max()\n",
    "    insights['Top Country'] = (top_country, country_count)\n",
    "\n",
    "if 'Q4' in df.columns:\n",
    "    top_edu = df['Q4'].value_counts().idxmax()\n",
    "    edu_count = df['Q4'].value_counts().max()\n",
    "    insights['Top Education'] = (top_edu, edu_count)\n",
    "\n",
    "if 'Q5' in df.columns:\n",
    "    top_role = df['Q5'].value_counts().idxmax()\n",
    "    role_count = df['Q5'].value_counts().max()\n",
    "    insights['Top Job Role'] = (top_role, role_count)\n",
    "\n",
    "if 'Q7_Part_1' in df.columns:\n",
    "    top_lang = df['Q7_Part_1'].value_counts().idxmax()\n",
    "    lang_count = df['Q7_Part_1'].value_counts().max()\n",
    "    insights['Top Language'] = (top_lang, lang_count)\n",
    "\n",
    "# Convert to labels + counts for plotting\n",
    "labels = [f\"{k}: {v[0]}\" for k,v in insights.items()]\n",
    "counts = [v[1] for v in insights.values()]\n",
    "\n",
    "# Plot\n",
    "plt.figure(figsize=(10,6))\n",
    "plt.barh(labels, counts)\n",
    "plt.xlabel(\"Respondent Count\")\n",
    "plt.ylabel(\"Insight Category\")\n",
    "plt.title(\"Top 5 Insights from Kaggle Survey Data\")\n",
    "plt.show()\n",
    "\n",
    "\n",
    "```"
   ]
  },
  {
   "cell_type": "markdown",
   "id": "504043e5",
   "metadata": {},
   "source": [
    "#### Original Markdown\n",
    "## 7. Conclusions\n",
    " \n",
    "- **Data Cleaning**: Removed duplicates, handled missing values by dropping columns with more than 40% missing data, and filled the remaining gaps using mode (for categorical variables) and median (for numerical variables).  \n",
    "- **Formatting Consistency**: Standardized categorical values by removing extra spaces, fixing spacing issues, and converting text to lowercase.  \n",
    "- **Categorical Encoding**: Applied Label Encoding to transform categorical variables into numerical codes, enabling further analysis and modeling.  \n",
    "- **Insights Extraction**: Identified the most common respondent characteristics, including top age group, gender, country, education level, job role, and preferred programming language.  \n",
    "- **Visualization**: Created a summary dashboard displaying the top insights for a clear and concise understanding of respondent behavior.  "
   ]
  }
 ],
 "metadata": {},
 "nbformat": 4,
 "nbformat_minor": 5
}
